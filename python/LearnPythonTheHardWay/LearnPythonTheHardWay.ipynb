{
 "cells": [
  {
   "cell_type": "code",
   "execution_count": null,
   "metadata": {
    "collapsed": false,
    "scrolled": true
   },
   "outputs": [],
   "source": [
    "import this"
   ]
  },
  {
   "cell_type": "code",
   "execution_count": null,
   "metadata": {
    "collapsed": false
   },
   "outputs": [],
   "source": [
    "# Exercise 1: A Good First Program\n",
    "print \"Hello, I am Hank.\"\n",
    "print \"お元気ですが\"\n",
    "print \"你好\""
   ]
  },
  {
   "cell_type": "code",
   "execution_count": null,
   "metadata": {
    "collapsed": false
   },
   "outputs": [],
   "source": [
    "# Exercise 2: Comments and Pound\n",
    "# This is a comment line\n",
    "print \"statement\"  # comment after statement"
   ]
  },
  {
   "cell_type": "code",
   "execution_count": null,
   "metadata": {
    "collapsed": false
   },
   "outputs": [],
   "source": [
    "# Exercise 3: Numbers and Math\n",
    "print \"I will now count my chickens:\"\n",
    "print \"Hens\", 25 + 30 / 6  # 母雞\n",
    "print \"Roosters\", 100 - 25 * 3 % 4  # 公雞"
   ]
  },
  {
   "cell_type": "code",
   "execution_count": null,
   "metadata": {
    "collapsed": false
   },
   "outputs": [],
   "source": [
    "print \"Now I will count the eggs:\"\n",
    "print 3 + 2 + 1 - 5 + 4 % 2 - 1 / 4 + 6    # 1 / 4 = 0\n",
    "print 3 + 2 + 1 - 5 + 4 % 2 - 1.0 / 4 + 6  # 1.0 / 4 = 0.25"
   ]
  },
  {
   "cell_type": "code",
   "execution_count": null,
   "metadata": {
    "collapsed": false
   },
   "outputs": [],
   "source": [
    "print \"Is it trun that 3 + 2 < 5 - 7?\"\n",
    "print 3 + 2 < 5 - 7\n",
    "print \"What's 3 + 2?\", 3 + 2\n",
    "print \"What's 5 - 7?\", 5 - 7"
   ]
  },
  {
   "cell_type": "code",
   "execution_count": null,
   "metadata": {
    "collapsed": false
   },
   "outputs": [],
   "source": [
    "print \"Is it greater\", 5 > -2\n",
    "print \"Is it greater or equal\", 5 >= -2\n",
    "print \"Is it less or equal\", 5 <= -2"
   ]
  },
  {
   "cell_type": "code",
   "execution_count": null,
   "metadata": {
    "collapsed": false
   },
   "outputs": [],
   "source": [
    "# Exercise 4: Variables and Names\n",
    "cars = 100\n",
    "space_in_a_car = 4.0\n",
    "drivers = 30\n",
    "passengers = 90\n",
    "cars_not_driven = cars - drivers\n",
    "cars_driven = drivers\n",
    "carpool_capacity = cars_driven * space_in_a_car\n",
    "average_passengers_per_car = passengers / cars_driven\n",
    "print \"There are\", cars, \"cars available.\"\n",
    "print \"There are only\", drivers, \"drivers available.\"\n",
    "print \"There will be\", cars_not_driven, \"empty cars today.\"\n",
    "print \"We can transport\", carpool_capacity, \"people today.\"\n",
    "print \"We have\", passengers, \"to carpool today.\"\n",
    "print \"We need to put about\", average_passengers_per_car, \"in each car.\""
   ]
  },
  {
   "cell_type": "code",
   "execution_count": null,
   "metadata": {
    "collapsed": false
   },
   "outputs": [],
   "source": [
    "# Exercise 5: More Variables and Printing\n",
    "name = 'Hank Wang'\n",
    "age = 29\n",
    "height = 169.5  # centimetre\n",
    "height_in_inches = round(height * 0.393700787)\n",
    "weight = 55.0  # kilo gram\n",
    "weight_in_pounds = round(weight * 2.20462262)\n",
    "eyes = 'Dark Brown'\n",
    "teeth = 'White'\n",
    "hair = 'Black'\n",
    "\n",
    "print \"Let's talk about %s.\" % name\n",
    "print \"He's %.1f cm tall, it's %d inches.\" % (height, height_in_inches)\n",
    "print \"He's %.1f kg heavy, it's %d pounds.\" % (weight, weight_in_pounds)\n",
    "print \"Actually that's not too heavy.\"\n",
    "print \"He's got %s eyes and %s hair\" % (eyes, hair)\n",
    "print \"His teeth are usually %s depending on the coffee.\" % teeth\n",
    "print \"If I add %.1f, %.1f, and %d I get %d.\" % (age, height, weight, age + height + weight)"
   ]
  },
  {
   "cell_type": "code",
   "execution_count": null,
   "metadata": {
    "collapsed": false
   },
   "outputs": [],
   "source": [
    "# Exercise 6: Strings and Text\n",
    "x = \"There are %d types of people.\" % 10\n",
    "binary = \"binary\"\n",
    "do_not = \"don't\"\n",
    "y = \"Those who know %s and those who %s.\" % (binary, do_not)\n",
    "\n",
    "print x\n",
    "print y\n",
    "\n",
    "print \"I said: %r.\" % x\n",
    "print \"I also said: '%s'.\" % y\n",
    "\n",
    "hilarious = False\n",
    "joke_evaluation = \"Isn't that joke so funny?! %r\"\n",
    "\n",
    "print joke_evaluation % hilarious\n",
    "\n",
    "w = \"This is the left side of...\"\n",
    "e = \"a string with a right side.\"\n",
    "\n",
    "print w + e"
   ]
  },
  {
   "cell_type": "code",
   "execution_count": null,
   "metadata": {
    "collapsed": false
   },
   "outputs": [],
   "source": [
    "# Exercise 7: More Printing\n",
    "print \"Mary had a little lamb.\"\n",
    "print \"It's fleece was white as %s.\" % 'snow'\n",
    "print \"And everywhere that Mary went.\"\n",
    "print \".\" * 10  # print . ten times\n",
    "\n",
    "end1 = \"C\"\n",
    "end2 = \"h\"\n",
    "end3 = \"e\"\n",
    "end4 = \"e\"\n",
    "end5 = \"s\"\n",
    "end6 = \"e\"\n",
    "end7 = \"B\"\n",
    "end8 = \"u\"\n",
    "end9 = \"r\"\n",
    "end10 = \"g\"\n",
    "end11 = \"e\"\n",
    "end12 = \"r\"\n",
    "\n",
    "print end1 + end2 + end3 + end4 + end5 + end6,\n",
    "print end7 + end8 + end9 + end10 + end11 + end12"
   ]
  },
  {
   "cell_type": "code",
   "execution_count": null,
   "metadata": {
    "collapsed": false
   },
   "outputs": [],
   "source": [
    "# Exercise 8: Printing, Printing\n",
    "formatter = \"%r %r %r %r\"\n",
    "\n",
    "print formatter % (1, 2, 3, 4)\n",
    "print formatter % (\"one\", \"two\", \"three\", \"four\")\n",
    "print formatter % (True, False, False, True)\n",
    "print formatter % (formatter, formatter, formatter, formatter)\n",
    "print formatter % (\n",
    "    \"I had this thing.\",\n",
    "    \"That you could type up right.\",\n",
    "    \"But it didn't sing.\",\n",
    "    \"So I said goodnight.\"\n",
    ")\n",
    "print formatter % (\"試\", \"試\", \"中\", \"文\")"
   ]
  },
  {
   "cell_type": "code",
   "execution_count": null,
   "metadata": {
    "collapsed": true
   },
   "outputs": [],
   "source": [
    "# Exercise 9: Printing, Printing, Printing"
   ]
  },
  {
   "cell_type": "code",
   "execution_count": null,
   "metadata": {
    "collapsed": false
   },
   "outputs": [],
   "source": [
    "days = \"Mon Tue Wed Thu Fri Sat Sun\"\n",
    "months = \"\\nJan\\nFeb\\nMar\\nApr\\nMay\\nJun\\nJul\\nAug\"\n",
    "\n",
    "print \"Here are the days:\", days\n",
    "print \"Here are the months:\", months\n",
    "\n",
    "print \"\"\"\n",
    "There's something going on here.\n",
    "With the three double-quotes.\n",
    "We'll be able to type as much as we like.\n",
    "Even 4 lines if we want, or 5, or 6.\n",
    "\"\"\""
   ]
  },
  {
   "cell_type": "code",
   "execution_count": null,
   "metadata": {
    "collapsed": false
   },
   "outputs": [],
   "source": [
    "# Exercise 10: What Was That?\n",
    "tabby_cat = \"\\tI'm tabbed in.\"\n",
    "persian_cat = \"I'm split\\non a line.\"\n",
    "backslash_cat = \"I'm \\\\ a \\\\ cat.\"\n",
    "\n",
    "fat_cat = \"\"\"\n",
    "I'll do a list:\n",
    "\\t* Cat food\n",
    "\\t* Fishies\n",
    "\\t* Catnip\\n\\t* Grass\n",
    "\"\"\"\n",
    "\n",
    "print tabby_cat\n",
    "print persian_cat\n",
    "print backslash_cat\n",
    "print fat_cat\n",
    "\n",
    "\n",
    "for i in [\"/\", \"-\", \"|\", \"\\\\\", \"|\"]:\n",
    "    print \"%s\\r\" % i,"
   ]
  },
  {
   "cell_type": "code",
   "execution_count": null,
   "metadata": {
    "collapsed": false
   },
   "outputs": [],
   "source": [
    "# Exercise 11: Asking Questions\n",
    "print \"How old are you?\",\n",
    "age = raw_input()\n",
    "print \"How tall are you?\",\n",
    "height = raw_input()\n",
    "print \"How much do you weight?\",\n",
    "weight = raw_input()\n",
    "\n",
    "print \"So, you're %r old, %r tall and %r heavy.\" % (age, height, weight)"
   ]
  },
  {
   "cell_type": "code",
   "execution_count": null,
   "metadata": {
    "collapsed": false
   },
   "outputs": [],
   "source": [
    "# Exercise 12: Prompting People\n",
    "age = raw_input(\"How old are you? \")\n",
    "height = raw_input(\"How tall are you? \")\n",
    "weight = raw_input(\"How much do you weight? \")\n",
    "\n",
    "print \"So, you're %r old, %r tall and %r heavy.\" % (age, height, weight)"
   ]
  },
  {
   "cell_type": "code",
   "execution_count": null,
   "metadata": {
    "collapsed": false
   },
   "outputs": [],
   "source": [
    "# Exercise 13: Parameters, Unpacking, Variables (not working on jupyter)\n",
    "# This is not working here, please refer ex13.py"
   ]
  },
  {
   "cell_type": "code",
   "execution_count": null,
   "metadata": {
    "collapsed": false
   },
   "outputs": [],
   "source": [
    "# Exercise 14: Prompting and Passing\n",
    "# This is not working here, please refer ex14.py"
   ]
  },
  {
   "cell_type": "code",
   "execution_count": null,
   "metadata": {
    "collapsed": true
   },
   "outputs": [],
   "source": [
    "# Exercise 15: Reading Files\n",
    "# This is not working here, please refer ex15.py"
   ]
  },
  {
   "cell_type": "code",
   "execution_count": null,
   "metadata": {
    "collapsed": true
   },
   "outputs": [],
   "source": [
    "# Exercise 16: Reading and Writing Files\n",
    "# This is not working here, please refer ex16.py"
   ]
  },
  {
   "cell_type": "code",
   "execution_count": null,
   "metadata": {
    "collapsed": true
   },
   "outputs": [],
   "source": [
    "# Exercise 17: More Files\n",
    "# This is not working here, please refer ex17.py"
   ]
  },
  {
   "cell_type": "code",
   "execution_count": null,
   "metadata": {
    "collapsed": false
   },
   "outputs": [],
   "source": [
    "# Exercise 18: Names, Variables, Code, Functions\n",
    "def print_two(*args):\n",
    "    arg1, arg2 = args\n",
    "    print \"arg1: %r, arg2: %r\" % (arg1, arg2)\n",
    "\n",
    "def print_two_again(*args):\n",
    "    arg1, arg2 = args\n",
    "    print \"arg1: %r, arg2: %r\" % (arg1, arg2)\n",
    "\n",
    "def print_one(arg1):\n",
    "    print \"arg1: %r\" % arg1\n",
    "\n",
    "def print_none():\n",
    "    print \"I got nothin'.\"\n",
    "\n",
    "print_two(\"Yo\", \"Man\")\n",
    "print_two_again(\"Yo\", \"Man\")\n",
    "print_one(\"One!\")\n",
    "print_none()"
   ]
  },
  {
   "cell_type": "code",
   "execution_count": null,
   "metadata": {
    "collapsed": false
   },
   "outputs": [],
   "source": [
    "# Exercise 19: Functions and Variables\n",
    "def cheese_and_crackers(cheese_count, boxes_of_crackers):\n",
    "    print \"You have %d cheeses!\" % cheese_count\n",
    "    print \"You have %d boxes of crackers!\" % boxes_of_crackers\n",
    "    print \"Man that's enough for a party!\"\n",
    "    print \"Get a blanket.\\n\"\n",
    "\n",
    "print \"We can just give the function numbers directly:\"\n",
    "cheese_and_crackers(20, 30)"
   ]
  },
  {
   "cell_type": "code",
   "execution_count": null,
   "metadata": {
    "collapsed": false
   },
   "outputs": [],
   "source": [
    "print \"Or, we can use variables from our script:\"\n",
    "amount_of_cheese = 10\n",
    "amount_of_crackers = 50\n",
    "cheese_and_crackers(amount_of_cheese, amount_of_crackers)"
   ]
  },
  {
   "cell_type": "code",
   "execution_count": null,
   "metadata": {
    "collapsed": false
   },
   "outputs": [],
   "source": [
    "print \"We can even do math inside too:\"\n",
    "cheese_and_crackers(10 + 20, 5 + 6)"
   ]
  },
  {
   "cell_type": "code",
   "execution_count": null,
   "metadata": {
    "collapsed": false
   },
   "outputs": [],
   "source": [
    "print \"And we can combine the two, variables and math:\"\n",
    "cheese_and_crackers(amount_of_cheese + 100, amount_of_crackers + 1000)"
   ]
  },
  {
   "cell_type": "code",
   "execution_count": null,
   "metadata": {
    "collapsed": true
   },
   "outputs": [],
   "source": [
    "# Exercise 20: Functions and Files\n",
    "# This is not working here, please refer ex20.py"
   ]
  },
  {
   "cell_type": "code",
   "execution_count": null,
   "metadata": {
    "collapsed": false
   },
   "outputs": [],
   "source": [
    "# Exercise 21: Functions Can Return Something\n",
    "def add(a, b):\n",
    "    print \"ADDING %d + %d\" % (a, b)\n",
    "    return a + b\n",
    "\n",
    "\n",
    "def subtract(a, b):\n",
    "    print \"SUBTRACTING %d - %d\" % (a, b)\n",
    "    return a - b\n",
    "\n",
    "\n",
    "def multiply(a, b):\n",
    "    print \"MULTIPLYING %d * %d\" % (a, b)\n",
    "    return a * b\n",
    "\n",
    "\n",
    "def divide(a, b):\n",
    "    print \"DIVIDING %d / %d\" % (a, b)\n",
    "    return a / b\n",
    "\n",
    "\n",
    "print \"Let's do some math with just functions!\"\n",
    "\n",
    "age = add(30, 5)\n",
    "height = subtract(78, 4)\n",
    "weight = multiply(90, 2)\n",
    "iq = divide(100, 2)\n",
    "\n",
    "print \"Age: %d, Height, %d, Weight: %d, IQ: %d\" % (age, height, weight, iq)"
   ]
  },
  {
   "cell_type": "code",
   "execution_count": null,
   "metadata": {
    "collapsed": false
   },
   "outputs": [],
   "source": [
    "# A puzzle for the extra credit, type it in anywan.\n",
    "print \"Here is a puzzle.\"\n",
    "what = add(age, subtract(height, multiply(weight, divide(iq, 2))))\n",
    "\n",
    "print \"That becomes: \", what, \"Can you do it by hand?\"\n",
    "print \"Formula: 35 + 74 - (180 * (50 / 2))\""
   ]
  },
  {
   "cell_type": "code",
   "execution_count": null,
   "metadata": {
    "collapsed": true
   },
   "outputs": [],
   "source": [
    "# Exercise 22: What Do You Know So Far?\n",
    "# Go back through every exercise you have done so far."
   ]
  },
  {
   "cell_type": "markdown",
   "metadata": {},
   "source": [
    "### Exercise 23: Read Some Code\n",
    "\n",
    "- [Trending Python repositories on GitHub today · GitHub](https://github.com/trending/python)\n",
    "- [Reading Great Code — The Hitchhiker's Guide to Python](http://docs.python-guide.org/en/latest/writing/reading/)"
   ]
  },
  {
   "cell_type": "code",
   "execution_count": null,
   "metadata": {
    "collapsed": false
   },
   "outputs": [],
   "source": [
    "# Exercise 24: More Practice\n",
    "print \"Let's practice everything.\"\n",
    "print 'You\\'d need to know \\'bout escapes with \\\\ that do \\n newlines and \\t tabs.'"
   ]
  },
  {
   "cell_type": "code",
   "execution_count": null,
   "metadata": {
    "collapsed": false
   },
   "outputs": [],
   "source": [
    "poem = \"\"\"\n",
    "\\t The lovely world\n",
    "with logic so firmly planted\n",
    "cannot discern \\n the needs of love\n",
    "nor comprehend passion from intuition\n",
    "and requires and explanation\n",
    "\\n\\t\\twhere there is none.\n",
    "\"\"\"\n",
    "\n",
    "print \"--------------\"\n",
    "print poem\n",
    "print \"-\" * 14"
   ]
  },
  {
   "cell_type": "code",
   "execution_count": null,
   "metadata": {
    "collapsed": false
   },
   "outputs": [],
   "source": [
    "five = 10 - 2 + 3 - 6\n",
    "print \"This should be five: %s\" % five"
   ]
  },
  {
   "cell_type": "code",
   "execution_count": null,
   "metadata": {
    "collapsed": false
   },
   "outputs": [],
   "source": [
    "def secret_formula(started):\n",
    "    jelly_beans = started * 500\n",
    "    jars= jelly_beans / 1000\n",
    "    crates = jars / 100\n",
    "    return jelly_beans, jars, crates\n",
    "\n",
    "start_point = 10000\n",
    "beans, jars, crates = secret_formula(start_point)\n",
    "\n",
    "print \"With a starting point of: %d\" % start_point\n",
    "print \"We'd have %d beans, %d jars, and %d crates.\" % (beans, jars, crates)\n",
    "\n",
    "start_point = start_point / 10\n",
    "\n",
    "print \"We can also do that this way:\"\n",
    "print \"We'd have %d beans, %d jars, and %d crates.\" % secret_formula(start_point)"
   ]
  },
  {
   "cell_type": "code",
   "execution_count": null,
   "metadata": {
    "collapsed": false
   },
   "outputs": [],
   "source": [
    "# Exercise 25: Even More Practice\n",
    "import ex25\n",
    "sentence = \"All good things come to those who wait.\"\n",
    "words = ex25.break_words(sentence)\n",
    "words"
   ]
  },
  {
   "cell_type": "code",
   "execution_count": null,
   "metadata": {
    "collapsed": false
   },
   "outputs": [],
   "source": [
    "sorted_words = ex25.sort_words(words)\n",
    "sorted_words"
   ]
  },
  {
   "cell_type": "code",
   "execution_count": null,
   "metadata": {
    "collapsed": false
   },
   "outputs": [],
   "source": [
    "ex25.print_first_word(words)\n",
    "ex25.print_last_word(sorted_words)\n",
    "sorted_words"
   ]
  },
  {
   "cell_type": "code",
   "execution_count": null,
   "metadata": {
    "collapsed": false
   },
   "outputs": [],
   "source": [
    "sorted_words = ex25.sort_sentence(sentence)\n",
    "sorted_words"
   ]
  },
  {
   "cell_type": "code",
   "execution_count": null,
   "metadata": {
    "collapsed": false
   },
   "outputs": [],
   "source": [
    "ex25.print_first_and_last(sentence)\n",
    "ex25.print_first_and_last_sorted(sentence)"
   ]
  },
  {
   "cell_type": "code",
   "execution_count": null,
   "metadata": {
    "collapsed": false
   },
   "outputs": [],
   "source": [
    "help(ex25)"
   ]
  },
  {
   "cell_type": "code",
   "execution_count": null,
   "metadata": {
    "collapsed": false
   },
   "outputs": [],
   "source": [
    "help(ex25.break_words)"
   ]
  },
  {
   "cell_type": "code",
   "execution_count": null,
   "metadata": {
    "collapsed": true
   },
   "outputs": [],
   "source": [
    "# Exercise 26: Congratulations, Take a Test!\n",
    "# Copy ex26.txt to ex26.py and fix it!"
   ]
  },
  {
   "cell_type": "code",
   "execution_count": null,
   "metadata": {
    "collapsed": true
   },
   "outputs": [],
   "source": [
    "# Exercise 27: Memorizing Logic\n",
    "# Refer ex27.py"
   ]
  },
  {
   "cell_type": "code",
   "execution_count": null,
   "metadata": {
    "collapsed": false
   },
   "outputs": [],
   "source": [
    "# Exercies 28: Boolean Practice\n",
    "print True and True\n",
    "print False and True\n",
    "print 1 == 1 and 2 == 1\n",
    "print \"test\" == \"test\"\n",
    "print 1 == 1 or 2 != 1\n",
    "print True and 1 == 1\n",
    "print False and 0 != 0\n",
    "print True or 1 == 1\n",
    "print \"test\" == \"testing\"\n",
    "print 1 != 0 and 2 == 1\n",
    "print \"test\" != \"testing\"\n",
    "print \"test\" == 1\n",
    "print not (True and False)\n",
    "print not (1 == 1 and 0 != 1)\n",
    "print not (10 == 1 or 1000 == 1000)\n",
    "print not (1 != 10 or 3 == 4)\n",
    "print not (\"testing\" == \"testing\" and \"Zed\" == \"Cool Guy\")\n",
    "print 1 == 1 and (not (\"testing\" == 1 or 1 == 0))\n",
    "print \"chunky\" == \"bacon\" and (not (3 == 4 or 3 == 3))\n",
    "print 3 == 3 and (not (\"testing\" == \"testing\" or \"Python\" == \"Fun\"))"
   ]
  },
  {
   "cell_type": "code",
   "execution_count": null,
   "metadata": {
    "collapsed": true
   },
   "outputs": [],
   "source": []
  }
 ],
 "metadata": {
  "kernelspec": {
   "display_name": "Python 2",
   "language": "python",
   "name": "python2"
  },
  "language_info": {
   "codemirror_mode": {
    "name": "ipython",
    "version": 2
   },
   "file_extension": ".py",
   "mimetype": "text/x-python",
   "name": "python",
   "nbconvert_exporter": "python",
   "pygments_lexer": "ipython2",
   "version": "2.7.10"
  }
 },
 "nbformat": 4,
 "nbformat_minor": 0
}
