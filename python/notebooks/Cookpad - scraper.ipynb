{
 "cells": [
  {
   "cell_type": "code",
   "execution_count": 1,
   "metadata": {
    "collapsed": true
   },
   "outputs": [],
   "source": [
    "from bs4 import BeautifulSoup\n",
    "import requests\n",
    "import json"
   ]
  },
  {
   "cell_type": "code",
   "execution_count": 2,
   "metadata": {
    "collapsed": true
   },
   "outputs": [],
   "source": [
    "r = requests.get(\"https://cookpad.com/tw/%E9%A3%9F%E8%AD%9C\", headers={\n",
    "    \"Content-Type\": \"text/html\",\n",
    "    \"User-Agent\": \"Mozilla/5.0 (Macintosh; Intel Mac OS X 10_10_4) AppleWebKit/600.7.12 (KHTML, like Gecko) Version/8.0.7 Safari/600.7.12\"\n",
    "})\n",
    "html = r.text"
   ]
  },
  {
   "cell_type": "code",
   "execution_count": 3,
   "metadata": {
    "collapsed": true
   },
   "outputs": [],
   "source": [
    "soup = BeautifulSoup(r.text, \"html.parser\")"
   ]
  },
  {
   "cell_type": "code",
   "execution_count": 6,
   "metadata": {
    "scrolled": false
   },
   "outputs": [
    {
     "name": "stdout",
     "output_type": "stream",
     "text": [
      "嫩煎日本生食級干貝\n",
      "干貝, 無鹽奶油\n",
      "https://cookpad.com/tw/%E9%A3%9F%E8%AD%9C/2864998-%E5%AB%A9%E7%85%8E%E6%97%A5%E6%9C%AC%E7%94%9F%E9%A3%9F%E7%B4%9A%E5%B9%B2%E8%B2%9D\n"
     ]
    },
    {
     "data": {
      "text/html": [
       "<img src=\"https://img-global.cpcdn.com/012_recipes/e3622aea7d2dea22/260x366cq50/photo.jpg\"/>"
      ],
      "text/plain": [
       "<IPython.core.display.Image object>"
      ]
     },
     "metadata": {},
     "output_type": "display_data"
    },
    {
     "name": "stdout",
     "output_type": "stream",
     "text": [
      "蔥燒豆腐\n",
      "板豆腐, 蔥, 蒜頭, 醬油, 糖, 水\n",
      "https://cookpad.com/tw/%E9%A3%9F%E8%AD%9C/2857123-%E8%94%A5%E7%87%92%E8%B1%86%E8%85%90\n"
     ]
    },
    {
     "data": {
      "text/html": [
       "<img src=\"https://img-global.cpcdn.com/012_recipes/d0e0ec39183c97fd/260x366cq50/photo.jpg\"/>"
      ],
      "text/plain": [
       "<IPython.core.display.Image object>"
      ]
     },
     "metadata": {},
     "output_type": "display_data"
    },
    {
     "name": "stdout",
     "output_type": "stream",
     "text": [
      "藍莓優格布蕾派\n",
      "布蕾液-全蛋, 布蕾液-鮮奶, 布蕾液 - 鐵塔牌動物性鮮奶油, 布蕾液- 鐵塔牌藍莓優格 , 布蕾液- 砂糖, 派皮- 低筋麵粉, 派皮- 鐵塔牌無鹽發酵奶油, 派皮-細砂糖, 派皮-鹽巴, 派皮-冷開水\n",
      "https://cookpad.com/tw/%E9%A3%9F%E8%AD%9C/2864482-%E8%97%8D%E8%8E%93%E5%84%AA%E6%A0%BC%E5%B8%83%E8%95%BE%E6%B4%BE\n"
     ]
    },
    {
     "data": {
      "text/html": [
       "<img src=\"https://img-global.cpcdn.com/012_recipes/19f76b4995c063ed/260x366cq50/photo.jpg\"/>"
      ],
      "text/plain": [
       "<IPython.core.display.Image object>"
      ]
     },
     "metadata": {},
     "output_type": "display_data"
    },
    {
     "name": "stdout",
     "output_type": "stream",
     "text": [
      "法式馬鈴薯泥(影片示範)\n",
      "馬鈴薯 pommes de terre, 牛奶 lait, 動物性奶油 beurre, 鹽 sel, 黑胡椒 poivre , 月桂葉 Feuille de laurier, 迷迭香 romarin (可省略), 煙燻紅椒粉 smoked paprika (可省略)  , 點綴用香草（可省略）\n",
      "https://cookpad.com/tw/%E9%A3%9F%E8%AD%9C/2863978-%E6%B3%95%E5%BC%8F%E9%A6%AC%E9%88%B4%E8%96%AF%E6%B3%A5%E5%BD%B1%E7%89%87%E7%A4%BA%E7%AF%84\n"
     ]
    },
    {
     "data": {
      "text/html": [
       "<img src=\"https://img-global.cpcdn.com/012_recipes/81c2d779611b40dc/260x366cq50/photo.jpg\"/>"
      ],
      "text/plain": [
       "<IPython.core.display.Image object>"
      ]
     },
     "metadata": {},
     "output_type": "display_data"
    },
    {
     "name": "stdout",
     "output_type": "stream",
     "text": [
      "堅果磅蛋糕 輕鬆做\n",
      "無鹽奶油, 砂糖, 牛奶, 雞蛋, 低筋麵粉, 高筋麵粉, 泡打粉\n",
      "https://cookpad.com/tw/%E9%A3%9F%E8%AD%9C/2864113-%E5%A0%85%E6%9E%9C%E7%A3%85%E8%9B%8B%E7%B3%95-%E8%BC%95%E9%AC%86%E5%81%9A\n"
     ]
    },
    {
     "data": {
      "text/html": [
       "<img src=\"https://img-global.cpcdn.com/012_recipes/ad9b8d7d03bcc525/260x366cq50/photo.jpg\"/>"
      ],
      "text/plain": [
       "<IPython.core.display.Image object>"
      ]
     },
     "metadata": {},
     "output_type": "display_data"
    },
    {
     "name": "stdout",
     "output_type": "stream",
     "text": [
      "塔香透抽\n",
      "透抽, 蔥, 薑片, 蒜粒, 辣椒, 九層塔, 醬油, 米酒, 砂糖\n",
      "https://cookpad.com/tw/%E9%A3%9F%E8%AD%9C/2852192-%E5%A1%94%E9%A6%99%E9%80%8F%E6%8A%BD\n"
     ]
    },
    {
     "data": {
      "text/html": [
       "<img src=\"https://img-global.cpcdn.com/012_recipes/28a58b6f81ae4111/260x366cq50/photo.jpg\"/>"
      ],
      "text/plain": [
       "<IPython.core.display.Image object>"
      ]
     },
     "metadata": {},
     "output_type": "display_data"
    },
    {
     "name": "stdout",
     "output_type": "stream",
     "text": [
      "法式韃靼水果 Tartare aux fruits\n",
      "鳳梨 , 奇異果, 香蕉, 芒果, 糖, 檸檬 , 薄荷葉, 蘭姆酒Rhum\n",
      "https://cookpad.com/tw/%E9%A3%9F%E8%AD%9C/2863829-%E6%B3%95%E5%BC%8F%E9%9F%83%E9%9D%BC%E6%B0%B4%E6%9E%9C-tartare-aux-fruits\n"
     ]
    },
    {
     "data": {
      "text/html": [
       "<img src=\"https://img-global.cpcdn.com/012_recipes/bf133b1dca2b01ff/260x366cq50/photo.jpg\"/>"
      ],
      "text/plain": [
       "<IPython.core.display.Image object>"
      ]
     },
     "metadata": {},
     "output_type": "display_data"
    },
    {
     "name": "stdout",
     "output_type": "stream",
     "text": [
      "清爽法式魚肉抹醬三重奏 Terrine\n",
      "鮭魚排一片, 鱸魚排一片, 鱈魚排（請魚販去魚刺切成魚排） 一片, 雞蛋, 百里（thym）, 巴西里（persil）, 月桂葉, 番茄醬, 切碎的新鮮巴西里, 番茄, 鹽, 胡椒粉\n",
      "https://cookpad.com/tw/%E9%A3%9F%E8%AD%9C/2863775-%E6%B8%85%E7%88%BD%E6%B3%95%E5%BC%8F%E9%AD%9A%E8%82%89%E6%8A%B9%E9%86%AC%E4%B8%89%E9%87%8D%E5%A5%8F-terrine\n"
     ]
    },
    {
     "data": {
      "text/html": [
       "<img src=\"https://img-global.cpcdn.com/012_recipes/872bfd4646885c45/260x366cq50/photo.jpg\"/>"
      ],
      "text/plain": [
       "<IPython.core.display.Image object>"
      ]
     },
     "metadata": {},
     "output_type": "display_data"
    },
    {
     "name": "stdout",
     "output_type": "stream",
     "text": [
      "10分鐘完成夏季料理．芝麻和風涼麵\n",
      "油麵*120g, 五花肉片*100g, 高麗菜*100g, 蔥*適量, 小蕃茄*適量, 柴魚片*少許, 本廚房芝麻和風醬*80g, 水*適量, 海苔*少許\n",
      "https://cookpad.com/tw/%E9%A3%9F%E8%AD%9C/2863551-10%E5%88%86%E9%90%98%E5%AE%8C%E6%88%90%E5%A4%8F%E5%AD%A3%E6%96%99%E7%90%86%EF%BC%8E%E8%8A%9D%E9%BA%BB%E5%92%8C%E9%A2%A8%E6%B6%BC%E9%BA%B5\n"
     ]
    },
    {
     "data": {
      "text/html": [
       "<img src=\"https://img-global.cpcdn.com/012_recipes/0d46fc54a19ba1f4/260x366cq50/photo.jpg\"/>"
      ],
      "text/plain": [
       "<IPython.core.display.Image object>"
      ]
     },
     "metadata": {},
     "output_type": "display_data"
    },
    {
     "name": "stdout",
     "output_type": "stream",
     "text": [
      "10分鐘完成日本庶民小吃【日式炒麵】\n",
      "油麵*120g, 五花肉片*100g, 高麗菜*100g, 洋蔥*1/8個, 雞蛋*1顆, 本廚房燒肉丼醬*80g, 水*適量\n",
      "https://cookpad.com/tw/%E9%A3%9F%E8%AD%9C/2863530-10%E5%88%86%E9%90%98%E5%AE%8C%E6%88%90%E6%97%A5%E6%9C%AC%E5%BA%B6%E6%B0%91%E5%B0%8F%E5%90%83%E6%97%A5%E5%BC%8F%E7%82%92%E9%BA%B5\n"
     ]
    },
    {
     "data": {
      "text/html": [
       "<img src=\"https://img-global.cpcdn.com/012_recipes/481db78f1a0cc4aa/260x366cq50/photo.jpg\"/>"
      ],
      "text/plain": [
       "<IPython.core.display.Image object>"
      ]
     },
     "metadata": {},
     "output_type": "display_data"
    },
    {
     "name": "stdout",
     "output_type": "stream",
     "text": [
      "京醬麵腸\n",
      "麵腸, 青蔥, 薑, (調味料), 甜麵醬, 米酒, 糖, 香油, 片栗粉, 水\n",
      "https://cookpad.com/tw/%E9%A3%9F%E8%AD%9C/2794150-%E4%BA%AC%E9%86%AC%E9%BA%B5%E8%85%B8\n"
     ]
    },
    {
     "data": {
      "text/html": [
       "<img src=\"https://img-global.cpcdn.com/012_recipes/51e6e70fc4dc1f3f/260x366cq50/photo.jpg\"/>"
      ],
      "text/plain": [
       "<IPython.core.display.Image object>"
      ]
     },
     "metadata": {},
     "output_type": "display_data"
    },
    {
     "name": "stdout",
     "output_type": "stream",
     "text": [
      "秋葵蛋捲\n",
      "秋葵切丁, 胡蘿蔔丁 , 白精靈菇, 鹽, 糖 , 沙拉油\n",
      "https://cookpad.com/tw/%E9%A3%9F%E8%AD%9C/2862240-%E7%A7%8B%E8%91%B5%E8%9B%8B%E6%8D%B2\n"
     ]
    },
    {
     "data": {
      "text/html": [
       "<img src=\"https://img-global.cpcdn.com/012_recipes/fe5dd61ae1c23aae/260x366cq50/photo.jpg\"/>"
      ],
      "text/plain": [
       "<IPython.core.display.Image object>"
      ]
     },
     "metadata": {},
     "output_type": "display_data"
    },
    {
     "name": "stdout",
     "output_type": "stream",
     "text": [
      "粉蒸豆鼓排骨\n",
      "【飛馬】蒸肉粉, 小排骨 , 豆鼓 , 蜂蜜 , 醬油 , 糖 , 蒜末 , 薑末 , 辣椒, 蔥段, 太白粉 \n",
      "https://cookpad.com/tw/%E9%A3%9F%E8%AD%9C/2862131-%E7%B2%89%E8%92%B8%E8%B1%86%E9%BC%93%E6%8E%92%E9%AA%A8\n"
     ]
    },
    {
     "data": {
      "text/html": [
       "<img src=\"https://img-global.cpcdn.com/012_recipes/a3113f028933e36a/260x366cq50/photo.jpg\"/>"
      ],
      "text/plain": [
       "<IPython.core.display.Image object>"
      ]
     },
     "metadata": {},
     "output_type": "display_data"
    },
    {
     "name": "stdout",
     "output_type": "stream",
     "text": [
      "菜豆馬鈴薯沙拉\n",
      "馬鈴薯 , 菜豆切段, 鹽 , 洋蔥切絲 , 糖 , 沙拉油, 羅勒橄欖醬 , 迷迭香料, 蜂蜜芥末沙拉醬 , 黑胡椒, 胡蘿蔔切花 \n",
      "https://cookpad.com/tw/%E9%A3%9F%E8%AD%9C/2862080-%E8%8F%9C%E8%B1%86%E9%A6%AC%E9%88%B4%E8%96%AF%E6%B2%99%E6%8B%89\n"
     ]
    },
    {
     "data": {
      "text/html": [
       "<img src=\"https://img-global.cpcdn.com/012_recipes/d6b83a0fb22ee18d/260x366cq50/photo.jpg\"/>"
      ],
      "text/plain": [
       "<IPython.core.display.Image object>"
      ]
     },
     "metadata": {},
     "output_type": "display_data"
    },
    {
     "name": "stdout",
     "output_type": "stream",
     "text": [
      "紅豆餡\n",
      "紅豆 , 白糖 , 水\n",
      "https://cookpad.com/tw/%E9%A3%9F%E8%AD%9C/2862028-%E7%B4%85%E8%B1%86%E9%A4%A1\n"
     ]
    },
    {
     "data": {
      "text/html": [
       "<img src=\"https://img-global.cpcdn.com/012_recipes/4c897b5382cef34e/260x366cq50/photo.jpg\"/>"
      ],
      "text/plain": [
       "<IPython.core.display.Image object>"
      ]
     },
     "metadata": {},
     "output_type": "display_data"
    },
    {
     "name": "stdout",
     "output_type": "stream",
     "text": [
      "提子包\n",
      "麵包機按20麵糰 75g/@ 8個, 高筋粉, 糖, 岩鹽, 牛油, 蛋 , 凍水 , 酵母, 提子乾, 掃蛋汁\n",
      "https://cookpad.com/tw/%E9%A3%9F%E8%AD%9C/2861797-%E6%8F%90%E5%AD%90%E5%8C%85\n"
     ]
    },
    {
     "data": {
      "text/html": [
       "<img src=\"https://img-global.cpcdn.com/012_recipes/9712f9f81c2fcd5d/260x366cq50/photo.jpg\"/>"
      ],
      "text/plain": [
       "<IPython.core.display.Image object>"
      ]
     },
     "metadata": {},
     "output_type": "display_data"
    },
    {
     "name": "stdout",
     "output_type": "stream",
     "text": [
      "炒韓式泡麵\n",
      "韓國泡麵, 高麗菜, 紅蘿蔔絲, 豬肉片, 木耳, 美白菇, 蔥\n",
      "https://cookpad.com/tw/%E9%A3%9F%E8%AD%9C/2861631-%E7%82%92%E9%9F%93%E5%BC%8F%E6%B3%A1%E9%BA%B5\n"
     ]
    },
    {
     "data": {
      "text/html": [
       "<img src=\"https://img-global.cpcdn.com/012_recipes/3c736a927b0b61ac/260x366cq50/photo.jpg\"/>"
      ],
      "text/plain": [
       "<IPython.core.display.Image object>"
      ]
     },
     "metadata": {},
     "output_type": "display_data"
    },
    {
     "name": "stdout",
     "output_type": "stream",
     "text": [
      "【食譜】日式小菜，芥末漬小黃瓜。きゅうりのわさび漬けレシピ\n",
      "小黃瓜, 鹽, 砂糖, 芥末粉, ※ 在台灣「哇沙比／わさび」可能標示品名為「芥末粉」，或「山葵粉」。兩者皆可喔！\n",
      "https://cookpad.com/tw/%E9%A3%9F%E8%AD%9C/2861269-%E9%A3%9F%E8%AD%9C%E6%97%A5%E5%BC%8F%E5%B0%8F%E8%8F%9C%E8%8A%A5%E6%9C%AB%E6%BC%AC%E5%B0%8F%E9%BB%83%E7%93%9C%E3%81%8D%E3%82%85%E3%81%86%E3%82%8A%E3%81%AE%E3%82%8F%E3%81%95%E3%81%B3%E6%BC%AC%E3%81%91%E3%83%AC%E3%82%B7%E3%83%94\n"
     ]
    },
    {
     "data": {
      "text/html": [
       "<img src=\"https://img-global.cpcdn.com/012_recipes/48866eebd9c13b33/260x366cq50/photo.jpg\"/>"
      ],
      "text/plain": [
       "<IPython.core.display.Image object>"
      ]
     },
     "metadata": {},
     "output_type": "display_data"
    },
    {
     "name": "stdout",
     "output_type": "stream",
     "text": [
      "羅勒餐包捲 （10個）～附『實作影片』～\n",
      "高筋, 速發, 細砂糖, 塩, 冰水, 無塩奶油, 新鮮羅勒葉\n",
      "https://cookpad.com/tw/%E9%A3%9F%E8%AD%9C/2591615-%E7%BE%85%E5%8B%92%E9%A4%90%E5%8C%85%E6%8D%B2-10%E5%80%8B%EF%BD%9E%E9%99%84%E3%80%8E%E5%AF%A6%E4%BD%9C%E5%BD%B1%E7%89%87%E3%80%8F%EF%BD%9E\n"
     ]
    },
    {
     "data": {
      "text/html": [
       "<img src=\"https://img-global.cpcdn.com/012_recipes/f6da05c4c0541166/260x366cq50/photo.jpg\"/>"
      ],
      "text/plain": [
       "<IPython.core.display.Image object>"
      ]
     },
     "metadata": {},
     "output_type": "display_data"
    },
    {
     "name": "stdout",
     "output_type": "stream",
     "text": [
      "蒜香排骨\n",
      "助排, 胡椒鹽, 醬油, 鹽, 蕃薯粉, 米酒, 蒜末, 酥炸粉\n",
      "https://cookpad.com/tw/%E9%A3%9F%E8%AD%9C/2860281-%E8%92%9C%E9%A6%99%E6%8E%92%E9%AA%A8\n"
     ]
    },
    {
     "data": {
      "text/html": [
       "<img src=\"https://img-global.cpcdn.com/012_recipes/2cdfd9bfd654e758/260x366cq50/photo.jpg\"/>"
      ],
      "text/plain": [
       "<IPython.core.display.Image object>"
      ]
     },
     "metadata": {},
     "output_type": "display_data"
    }
   ],
   "source": [
    "from IPython.display import Image, display\n",
    "for row in soup.find_all(\"li\", {\"data-role\": \"recipe\"}):\n",
    "    print row.find(\"img\").attrs[\"alt\"]\n",
    "    words = json.loads(row.find(\"div\", {\"class\": \"wide-card__body\"}).attrs[\"data-words\"])\n",
    "    print \", \".join(words)\n",
    "    print \"https://cookpad.com\" + row.find(\"a\").attrs[\"href\"]\n",
    "    display(Image(url=row.find(\"img\").attrs[\"src\"]))"
   ]
  }
 ],
 "metadata": {
  "kernelspec": {
   "display_name": "Python 2",
   "language": "python",
   "name": "python2"
  },
  "language_info": {
   "codemirror_mode": {
    "name": "ipython",
    "version": 2
   },
   "file_extension": ".py",
   "mimetype": "text/x-python",
   "name": "python",
   "nbconvert_exporter": "python",
   "pygments_lexer": "ipython2",
   "version": "2.7.12"
  }
 },
 "nbformat": 4,
 "nbformat_minor": 2
}
