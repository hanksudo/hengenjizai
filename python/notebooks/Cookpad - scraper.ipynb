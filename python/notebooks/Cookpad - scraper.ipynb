{
 "cells": [
  {
   "cell_type": "code",
   "execution_count": 1,
   "metadata": {
    "collapsed": true
   },
   "outputs": [],
   "source": [
    "from bs4 import BeautifulSoup\n",
    "import requests\n",
    "import json\n",
    "import re"
   ]
  },
  {
   "cell_type": "code",
   "execution_count": 2,
   "metadata": {
    "collapsed": true
   },
   "outputs": [],
   "source": [
    "r = requests.get(\"https://cookpad.com/tw/%E9%A3%9F%E8%AD%9C\", headers={\n",
    "    \"Content-Type\": \"text/html\",\n",
    "    \"User-Agent\": \"Mozilla/5.0 (Macintosh; Intel Mac OS X 10_10_4) AppleWebKit/600.7.12 (KHTML, like Gecko) Version/8.0.7 Safari/600.7.12\"\n",
    "})"
   ]
  },
  {
   "cell_type": "code",
   "execution_count": 3,
   "metadata": {},
   "outputs": [],
   "source": [
    "soup = BeautifulSoup(r.text, \"html.parser\")"
   ]
  },
  {
   "cell_type": "code",
   "execution_count": 4,
   "metadata": {
    "scrolled": false
   },
   "outputs": [
    {
     "name": "stdout",
     "output_type": "stream",
     "text": [
      "南瓜炊飯(電子鍋版)\n",
      "南瓜 (小型), 乾香菇, 金鉤蝦米, 小魚乾, 薑末, 蒜末, 白米, 調味, 醬油, 米酒\n",
      "https://cookpad.com/tw/%E9%A3%9F%E8%AD%9C/3214961-%E5%8D%97%E7%93%9C%E7%82%8A%E9%A3%AF%E9%9B%BB%E5%AD%90%E9%8D%8B%E7%89%88\n"
     ]
    },
    {
     "data": {
      "text/html": [
       "<img src=\"https://img-global.cpcdn.com/012_recipes/4a0f8184634d19ec/260x366cq50/photo.jpg\"/>"
      ],
      "text/plain": [
       "<IPython.core.display.Image object>"
      ]
     },
     "metadata": {},
     "output_type": "display_data"
    },
    {
     "name": "stdout",
     "output_type": "stream",
     "text": [
      "瓦奇諾燉牛尾\n",
      "牛尾, 特級初榨橄欖油, 洋蔥 1個，350g, 胡蘿蔔 1條，300g, 西洋芹菜, 大蒜, 義大利香菜, 丁香, 月桂葉, 白葡萄酒, 去皮番茄, 鹽、胡椒, 培根, 松子, 葡萄乾, 原味可可粉\n",
      "https://cookpad.com/tw/%E9%A3%9F%E8%AD%9C/3214772-%E7%93%A6%E5%A5%87%E8%AB%BE%E7%87%89%E7%89%9B%E5%B0%BE\n"
     ]
    },
    {
     "data": {
      "text/html": [
       "<img src=\"https://img-global.cpcdn.com/012_recipes/f412b11214054edf/260x366cq50/photo.jpg\"/>"
      ],
      "text/plain": [
       "<IPython.core.display.Image object>"
      ]
     },
     "metadata": {},
     "output_type": "display_data"
    },
    {
     "name": "stdout",
     "output_type": "stream",
     "text": [
      "蘭姆葡萄．瑪德蓮蛋糕\n",
      "葡萄乾, 熱水 適量（蓋過葡萄乾）, 蘭姆酒a  適量（蓋過葡萄乾）, 全蛋液, 砂糖, 蜂蜜, 低筋麵粉, 杏仁粉, 泡打粉, 融化的無鹽奶油（冷卻）, 蘭姆酒b\n",
      "https://cookpad.com/tw/%E9%A3%9F%E8%AD%9C/3202443-%E8%98%AD%E5%A7%86%E8%91%A1%E8%90%84%EF%BC%8E%E7%91%AA%E5%BE%B7%E8%93%AE%E8%9B%8B%E7%B3%95\n"
     ]
    },
    {
     "data": {
      "text/html": [
       "<img src=\"https://img-global.cpcdn.com/012_recipes/964959b212c82ccf/260x366cq50/photo.jpg\"/>"
      ],
      "text/plain": [
       "<IPython.core.display.Image object>"
      ]
     },
     "metadata": {},
     "output_type": "display_data"
    },
    {
     "name": "stdout",
     "output_type": "stream",
     "text": [
      "素碗糕\n",
      "在來米, 冷水, 熱水, a、餡料酌量如下, 菜脯、浸泡過的香菇、醬油適量、白胡椒、冰糖、五香粉、香油, b、自製鹹雞蛋黃 4顆剖半\n",
      "https://cookpad.com/tw/%E9%A3%9F%E8%AD%9C/3214369-%E7%B4%A0%E7%A2%97%E7%B3%95\n"
     ]
    },
    {
     "data": {
      "text/html": [
       "<img src=\"https://img-global.cpcdn.com/012_recipes/a2f01330c23184b0/260x366cq50/photo.jpg\"/>"
      ],
      "text/plain": [
       "<IPython.core.display.Image object>"
      ]
     },
     "metadata": {},
     "output_type": "display_data"
    },
    {
     "name": "stdout",
     "output_type": "stream",
     "text": [
      "越南果凍\n",
      "洋菜粉*15g, 砂糖*300g, 椰漿奶*400g, 二合一重焙咖啡粉*3包\n",
      "https://cookpad.com/tw/%E9%A3%9F%E8%AD%9C/3214484-%E8%B6%8A%E5%8D%97%E6%9E%9C%E5%87%8D\n"
     ]
    },
    {
     "data": {
      "text/html": [
       "<img src=\"https://img-global.cpcdn.com/012_recipes/39eb968b0372a104/260x366cq50/photo.jpg\"/>"
      ],
      "text/plain": [
       "<IPython.core.display.Image object>"
      ]
     },
     "metadata": {},
     "output_type": "display_data"
    },
    {
     "name": "stdout",
     "output_type": "stream",
     "text": [
      "越南牛肉河粉\n",
      "河粉*100g, 牛肉片*60g, 豆芽菜*30g, 洋蔥*1/8個, 九層塔*少許, 蔥花*少許, 辣椒*少許, 魚露*少許, 檸檬*1/4個, 牛肉風味粉*60g\n",
      "https://cookpad.com/tw/%E9%A3%9F%E8%AD%9C/3214472-%E8%B6%8A%E5%8D%97%E7%89%9B%E8%82%89%E6%B2%B3%E7%B2%89\n"
     ]
    },
    {
     "data": {
      "text/html": [
       "<img src=\"https://img-global.cpcdn.com/012_recipes/12c8acad918bb79a/260x366cq50/photo.jpg\"/>"
      ],
      "text/plain": [
       "<IPython.core.display.Image object>"
      ]
     },
     "metadata": {},
     "output_type": "display_data"
    },
    {
     "name": "stdout",
     "output_type": "stream",
     "text": [
      "香菜豆皮蔬食捲\n",
      "生豆皮, 四季豆, 紅蘿蔔（切小條）, 香菜, 花生粉, 沾醬, 油膏, 番茄醬, 味霖\n",
      "https://cookpad.com/tw/%E9%A3%9F%E8%AD%9C/3214388-%E9%A6%99%E8%8F%9C%E8%B1%86%E7%9A%AE%E8%94%AC%E9%A3%9F%E6%8D%B2\n"
     ]
    },
    {
     "data": {
      "text/html": [
       "<img src=\"https://img-global.cpcdn.com/012_recipes/9feed2119df552ac/260x366cq50/photo.jpg\"/>"
      ],
      "text/plain": [
       "<IPython.core.display.Image object>"
      ]
     },
     "metadata": {},
     "output_type": "display_data"
    },
    {
     "name": "stdout",
     "output_type": "stream",
     "text": [
      "蔥蒜雞\n",
      "雞, 蔥末, 蒜末, 薑末, 辣椒末, 胡椒粉, 黑胡椒粒, 米酒\n",
      "https://cookpad.com/tw/%E9%A3%9F%E8%AD%9C/3214265-%E8%94%A5%E8%92%9C%E9%9B%9E\n"
     ]
    },
    {
     "data": {
      "text/html": [
       "<img src=\"https://img-global.cpcdn.com/012_recipes/d22e95fa4661649b/260x366cq50/photo.jpg\"/>"
      ],
      "text/plain": [
       "<IPython.core.display.Image object>"
      ]
     },
     "metadata": {},
     "output_type": "display_data"
    },
    {
     "name": "stdout",
     "output_type": "stream",
     "text": [
      "干貝櫻花蝦蛋炒飯\n",
      "蒜頭(依喜好程度), 雞蛋, 豬肉, 洋蔥, 櫻花蝦、干貝, 四季豆, 冷飯, 醃肉調味料:蒜泥少許、醬油、白胡椒、米酒, 鹽, 黑胡椒, 醬油\n",
      "https://cookpad.com/tw/%E9%A3%9F%E8%AD%9C/3209907-%E5%B9%B2%E8%B2%9D%E6%AB%BB%E8%8A%B1%E8%9D%A6%E8%9B%8B%E7%82%92%E9%A3%AF\n"
     ]
    },
    {
     "data": {
      "text/html": [
       "<img src=\"https://img-global.cpcdn.com/012_recipes/3ba9d420e5518097/260x366cq50/photo.jpg\"/>"
      ],
      "text/plain": [
       "<IPython.core.display.Image object>"
      ]
     },
     "metadata": {},
     "output_type": "display_data"
    },
    {
     "name": "stdout",
     "output_type": "stream",
     "text": [
      "【影片】我的完美英式提子鬆餅（司康餅）\n",
      "無鹽奶油, 牛奶, 檸檬汁, 低筋麵粉, 無鋁泡打粉, 砂糖, 鹽, 提子乾, 雞蛋, 雞蛋(掃鬆餅面用)\n",
      "https://cookpad.com/tw/%E9%A3%9F%E8%AD%9C/3213645-%E5%BD%B1%E7%89%87%E6%88%91%E7%9A%84%E5%AE%8C%E7%BE%8E%E8%8B%B1%E5%BC%8F%E6%8F%90%E5%AD%90%E9%AC%86%E9%A4%85%E5%8F%B8%E5%BA%B7%E9%A4%85\n"
     ]
    },
    {
     "data": {
      "text/html": [
       "<img src=\"https://img-global.cpcdn.com/012_recipes/9fa22c0c9606cef5/260x366cq50/photo.jpg\"/>"
      ],
      "text/plain": [
       "<IPython.core.display.Image object>"
      ]
     },
     "metadata": {},
     "output_type": "display_data"
    },
    {
     "name": "stdout",
     "output_type": "stream",
     "text": [
      "咖哩炒飯\n",
      "冷飯, 豬里肌肉條, 洋蔥丁, 紅蘿蔔丁, 青豌豆, 甜椒丁, 蔥花, 調味料, 印度咖哩粉, 鹽, 黑胡椒粉, 香菇精或雞粉\n",
      "https://cookpad.com/tw/%E9%A3%9F%E8%AD%9C/3213291-%E5%92%96%E5%93%A9%E7%82%92%E9%A3%AF\n"
     ]
    },
    {
     "data": {
      "text/html": [
       "<img src=\"https://img-global.cpcdn.com/012_recipes/0d961fb89e3095c2/260x366cq50/photo.jpg\"/>"
      ],
      "text/plain": [
       "<IPython.core.display.Image object>"
      ]
     },
     "metadata": {},
     "output_type": "display_data"
    },
    {
     "name": "stdout",
     "output_type": "stream",
     "text": [
      "碗豆蝦球\n",
      "碗豆, 玉米筍, 鮮蝦, 紅蘿蔔片, 蒜末, 調味料, 鹽, 黑胡椒粉, 米酒\n",
      "https://cookpad.com/tw/%E9%A3%9F%E8%AD%9C/3213213-%E7%A2%97%E8%B1%86%E8%9D%A6%E7%90%83\n"
     ]
    },
    {
     "data": {
      "text/html": [
       "<img src=\"https://img-global.cpcdn.com/012_recipes/81ec919c51392d08/260x366cq50/photo.jpg\"/>"
      ],
      "text/plain": [
       "<IPython.core.display.Image object>"
      ]
     },
     "metadata": {},
     "output_type": "display_data"
    },
    {
     "name": "stdout",
     "output_type": "stream",
     "text": [
      "奶油濃湯\n",
      "凱蒂奶油濃湯粉, 冷水, 玉米粒\n",
      "https://cookpad.com/tw/%E9%A3%9F%E8%AD%9C/3212943-%E5%A5%B6%E6%B2%B9%E6%BF%83%E6%B9%AF\n"
     ]
    },
    {
     "data": {
      "text/html": [
       "<img src=\"https://img-global.cpcdn.com/012_recipes/078247df85fe4966/260x366cq50/photo.jpg\"/>"
      ],
      "text/plain": [
       "<IPython.core.display.Image object>"
      ]
     },
     "metadata": {},
     "output_type": "display_data"
    },
    {
     "name": "stdout",
     "output_type": "stream",
     "text": [
      "早午餐美式big漢堡排，鮮嫩多汁牛肉排\n",
      "漢堡牛絞肉, 漢堡麵包, 西生菜, 牛番茄, 乳酪片, 披薩用乳酪絲, 酸黃瓜, 番茄醬/美乃滋/芥末醬\n",
      "https://cookpad.com/tw/%E9%A3%9F%E8%AD%9C/3212917-%E6%97%A9%E5%8D%88%E9%A4%90%E7%BE%8E%E5%BC%8Fbig%E6%BC%A2%E5%A0%A1%E6%8E%92%E9%AE%AE%E5%AB%A9%E5%A4%9A%E6%B1%81%E7%89%9B%E8%82%89%E6%8E%92\n"
     ]
    },
    {
     "data": {
      "text/html": [
       "<img src=\"https://img-global.cpcdn.com/012_recipes/8a7be4eae4adf97b/260x366cq50/photo.jpg\"/>"
      ],
      "text/plain": [
       "<IPython.core.display.Image object>"
      ]
     },
     "metadata": {},
     "output_type": "display_data"
    },
    {
     "name": "stdout",
     "output_type": "stream",
     "text": [
      "黃金鮪魚蛋炒飯\n",
      "冷飯, 蛋, 胡蘿蔔, 鮪魚罐頭, 醬油\n",
      "https://cookpad.com/tw/%E9%A3%9F%E8%AD%9C/3201294-%E9%BB%83%E9%87%91%E9%AE%AA%E9%AD%9A%E8%9B%8B%E7%82%92%E9%A3%AF\n"
     ]
    },
    {
     "data": {
      "text/html": [
       "<img src=\"https://img-global.cpcdn.com/012_recipes/dacc0cf39acfa840/260x366cq50/photo.jpg\"/>"
      ],
      "text/plain": [
       "<IPython.core.display.Image object>"
      ]
     },
     "metadata": {},
     "output_type": "display_data"
    },
    {
     "name": "stdout",
     "output_type": "stream",
     "text": [
      "珍珠肉丸\n",
      "糯米, 豬絞肉, 蛋白, 清水, 鹽, 醬油, 米酒, 胡椒粉, 太白粉, 麻油, 豬油, 蓮藕, 薑\n",
      "https://cookpad.com/tw/%E9%A3%9F%E8%AD%9C/3212661-%E7%8F%8D%E7%8F%A0%E8%82%89%E4%B8%B8\n"
     ]
    },
    {
     "data": {
      "text/html": [
       "<img src=\"https://img-global.cpcdn.com/012_recipes/dc4f15fc008444f7/260x366cq50/photo.jpg\"/>"
      ],
      "text/plain": [
       "<IPython.core.display.Image object>"
      ]
     },
     "metadata": {},
     "output_type": "display_data"
    },
    {
     "name": "stdout",
     "output_type": "stream",
     "text": [
      "青鯤鯓料理──烏魚親子炒飯\n",
      "鹽漬烏魚乾（去頭去尾去鰭）, 烏魚子（豪爽一點就放一副）, 米酒（紹興酒也行）, 菜豆（切碎，其實隨便什麼豆都行）, 雞蛋（打散）, 蒜頭（切碎）, 白飯（冰過尤佳）, 魚露（optional）\n",
      "https://cookpad.com/tw/%E9%A3%9F%E8%AD%9C/3211480-%E9%9D%92%E9%AF%A4%E9%AF%93%E6%96%99%E7%90%86%E2%94%80%E2%94%80%E7%83%8F%E9%AD%9A%E8%A6%AA%E5%AD%90%E7%82%92%E9%A3%AF\n"
     ]
    },
    {
     "data": {
      "text/html": [
       "<img src=\"https://img-global.cpcdn.com/012_recipes/e992ed7f34b375e2/260x366cq50/photo.jpg\"/>"
      ],
      "text/plain": [
       "<IPython.core.display.Image object>"
      ]
     },
     "metadata": {},
     "output_type": "display_data"
    },
    {
     "name": "stdout",
     "output_type": "stream",
     "text": [
      "生酮補油-蔥油胡椒雞\n",
      "去骨雞腿肉, 橄欖油, 苦茶油(其他耐熱好油也可), 白胡椒粉, 海鹽, 蔥\n",
      "https://cookpad.com/tw/%E9%A3%9F%E8%AD%9C/3211321-%E7%94%9F%E9%85%AE%E8%A3%9C%E6%B2%B9-%E8%94%A5%E6%B2%B9%E8%83%A1%E6%A4%92%E9%9B%9E\n"
     ]
    },
    {
     "data": {
      "text/html": [
       "<img src=\"https://img-global.cpcdn.com/012_recipes/600e0db4c30e7f91/260x366cq50/photo.jpg\"/>"
      ],
      "text/plain": [
       "<IPython.core.display.Image object>"
      ]
     },
     "metadata": {},
     "output_type": "display_data"
    },
    {
     "name": "stdout",
     "output_type": "stream",
     "text": [
      "黑木耳玉米皮蛋番茄盅．柯媽媽の植物燕窩\n",
      "黑木耳qq圓(起司), 玉米粒, 皮蛋, 牛番茄, 青蔥, 鰹魚醬油, 鮮奶\n",
      "https://cookpad.com/tw/%E9%A3%9F%E8%AD%9C/3211249-%E9%BB%91%E6%9C%A8%E8%80%B3%E7%8E%89%E7%B1%B3%E7%9A%AE%E8%9B%8B%E7%95%AA%E8%8C%84%E7%9B%85%EF%BC%8E%E6%9F%AF%E5%AA%BD%E5%AA%BD%E3%81%AE%E6%A4%8D%E7%89%A9%E7%87%95%E7%AA%A9\n"
     ]
    },
    {
     "data": {
      "text/html": [
       "<img src=\"https://img-global.cpcdn.com/012_recipes/c2303a1f7a5cfd80/260x366cq50/photo.jpg\"/>"
      ],
      "text/plain": [
       "<IPython.core.display.Image object>"
      ]
     },
     "metadata": {},
     "output_type": "display_data"
    },
    {
     "name": "stdout",
     "output_type": "stream",
     "text": [
      "古早味蘿蔔乾炒飯\n",
      "白飯 兩杯米量, 雞蛋 一顆, 蘿蔔乾, 青蔥 兩根, 高麗菜, 鹽 半小匙, 胡椒粉\n",
      "https://cookpad.com/tw/%E9%A3%9F%E8%AD%9C/3211170-%E5%8F%A4%E6%97%A9%E5%91%B3%E8%98%BF%E8%94%94%E4%B9%BE%E7%82%92%E9%A3%AF\n"
     ]
    },
    {
     "data": {
      "text/html": [
       "<img src=\"https://img-global.cpcdn.com/012_recipes/c56ecd1af4f39d9d/260x366cq50/photo.jpg\"/>"
      ],
      "text/plain": [
       "<IPython.core.display.Image object>"
      ]
     },
     "metadata": {},
     "output_type": "display_data"
    }
   ],
   "source": [
    "from IPython.display import Image, display\n",
    "for row in soup.find_all(\"li\", id=re.compile(\"^recipe_\")):\n",
    "    print row.find(\"img\").attrs[\"alt\"]\n",
    "    words = json.loads(row.find(\"div\", {\"class\": \"wide-card__body\"}).attrs[\"data-words\"])\n",
    "    print \", \".join(words)\n",
    "    print \"https://cookpad.com\" + row.find(\"a\").attrs[\"href\"]\n",
    "    display(Image(url=row.find(\"img\").attrs[\"src\"]))"
   ]
  }
 ],
 "metadata": {
  "kernelspec": {
   "display_name": "Python 2",
   "language": "python",
   "name": "python2"
  },
  "language_info": {
   "codemirror_mode": {
    "name": "ipython",
    "version": 2
   },
   "file_extension": ".py",
   "mimetype": "text/x-python",
   "name": "python",
   "nbconvert_exporter": "python",
   "pygments_lexer": "ipython2",
   "version": "2.7.12"
  }
 },
 "nbformat": 4,
 "nbformat_minor": 2
}
