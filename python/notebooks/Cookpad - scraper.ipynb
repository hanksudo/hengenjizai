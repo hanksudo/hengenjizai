{
 "cells": [
  {
   "cell_type": "code",
   "execution_count": 1,
   "metadata": {},
   "outputs": [],
   "source": [
    "from bs4 import BeautifulSoup\n",
    "import requests\n",
    "import json\n",
    "import re"
   ]
  },
  {
   "cell_type": "code",
   "execution_count": 2,
   "metadata": {
    "collapsed": true
   },
   "outputs": [],
   "source": [
    "r = requests.get(\"https://cookpad.com/tw/%E9%A3%9F%E8%AD%9C\", headers={\n",
    "    \"Content-Type\": \"text/html\",\n",
    "    \"User-Agent\": \"Mozilla/5.0 (Macintosh; Intel Mac OS X 10_10_4) AppleWebKit/600.7.12 (KHTML, like Gecko) Version/8.0.7 Safari/600.7.12\"\n",
    "})\n",
    "html = r.text"
   ]
  },
  {
   "cell_type": "code",
   "execution_count": 3,
   "metadata": {
    "collapsed": true
   },
   "outputs": [],
   "source": [
    "soup = BeautifulSoup(r.text, \"html.parser\")"
   ]
  },
  {
   "cell_type": "code",
   "execution_count": 4,
   "metadata": {
    "scrolled": false
   },
   "outputs": [
    {
     "name": "stdout",
     "output_type": "stream",
     "text": [
      "水發魷魚 家常小炒\n",
      "水發魷魚 一隻, 薑片, 拍碎蒜粒, 青蔥段, 斜切片大辣椒, 料酒, 鹽, 雞粉 一小匙\n",
      "https://cookpad.com/tw/%E9%A3%9F%E8%AD%9C/2890483-%E6%B0%B4%E7%99%BC%E9%AD%B7%E9%AD%9A-%E5%AE%B6%E5%B8%B8%E5%B0%8F%E7%82%92\n"
     ]
    },
    {
     "data": {
      "text/html": [
       "<img src=\"https://img-global.cpcdn.com/012_recipes/30cfc7071042a5b3/260x366cq50/photo.jpg\"/>"
      ],
      "text/plain": [
       "<IPython.core.display.Image object>"
      ]
     },
     "metadata": {},
     "output_type": "display_data"
    },
    {
     "name": "stdout",
     "output_type": "stream",
     "text": [
      "簡易家傳炒薯仔條\n",
      "薯仔2個, 蒜頭4粒, 鹽4g, 蔥花適量裝飾用\n",
      "https://cookpad.com/tw/%E9%A3%9F%E8%AD%9C/2892129-%E7%B0%A1%E6%98%93%E5%AE%B6%E5%82%B3%E7%82%92%E8%96%AF%E4%BB%94%E6%A2%9D\n"
     ]
    },
    {
     "data": {
      "text/html": [
       "<img src=\"https://img-global.cpcdn.com/012_recipes/9c82167a72f24802/260x366cq50/photo.jpg\"/>"
      ],
      "text/plain": [
       "<IPython.core.display.Image object>"
      ]
     },
     "metadata": {},
     "output_type": "display_data"
    },
    {
     "name": "stdout",
     "output_type": "stream",
     "text": [
      "仙草凍\n",
      "仙草粉包 ２包, 白糖４小匙, 吉利丁粉 ３小匙, 水 ６００cc\n",
      "https://cookpad.com/tw/%E9%A3%9F%E8%AD%9C/2891749-%E4%BB%99%E8%8D%89%E5%87%8D\n"
     ]
    },
    {
     "data": {
      "text/html": [
       "<img src=\"https://img-global.cpcdn.com/012_recipes/809a4fdc77393489/260x366cq50/photo.jpg\"/>"
      ],
      "text/plain": [
       "<IPython.core.display.Image object>"
      ]
     },
     "metadata": {},
     "output_type": "display_data"
    },
    {
     "name": "stdout",
     "output_type": "stream",
     "text": [
      "鳳梨皮冰茶 （成品約1200g） ～附『實作影片』～\n",
      "鳳梨皮, 清水, 白砂糖, 新鮮薄荷葉\n",
      "https://cookpad.com/tw/%E9%A3%9F%E8%AD%9C/2787282-%E9%B3%B3%E6%A2%A8%E7%9A%AE%E5%86%B0%E8%8C%B6-%E6%88%90%E5%93%81%E7%B4%841200g-%EF%BD%9E%E9%99%84%E3%80%8E%E5%AF%A6%E4%BD%9C%E5%BD%B1%E7%89%87%E3%80%8F%EF%BD%9E\n"
     ]
    },
    {
     "data": {
      "text/html": [
       "<img src=\"https://img-global.cpcdn.com/012_recipes/de2d182c139dd1bd/260x366cq50/photo.jpg\"/>"
      ],
      "text/plain": [
       "<IPython.core.display.Image object>"
      ]
     },
     "metadata": {},
     "output_type": "display_data"
    },
    {
     "name": "stdout",
     "output_type": "stream",
     "text": [
      "韮菜花炒甜不辣\n",
      "甜不辣 六條, 韮菜花 一把, 蒜頭 一瓣, 醬油, 鹽\n",
      "https://cookpad.com/tw/%E9%A3%9F%E8%AD%9C/2891382-%E9%9F%AE%E8%8F%9C%E8%8A%B1%E7%82%92%E7%94%9C%E4%B8%8D%E8%BE%A3\n"
     ]
    },
    {
     "data": {
      "text/html": [
       "<img src=\"https://img-global.cpcdn.com/012_recipes/e0479e566be287c2/260x366cq50/photo.jpg\"/>"
      ],
      "text/plain": [
       "<IPython.core.display.Image object>"
      ]
     },
     "metadata": {},
     "output_type": "display_data"
    },
    {
     "name": "stdout",
     "output_type": "stream",
     "text": [
      "回鍋肉\n",
      "五花肉, 豆干 七片, 高麗菜 四五片, 蒜頭 兩瓣, 豆瓣醬 一匙\n",
      "https://cookpad.com/tw/%E9%A3%9F%E8%AD%9C/2891312-%E5%9B%9E%E9%8D%8B%E8%82%89\n"
     ]
    },
    {
     "data": {
      "text/html": [
       "<img src=\"https://img-global.cpcdn.com/012_recipes/e02d5b553b7d9c82/260x366cq50/photo.jpg\"/>"
      ],
      "text/plain": [
       "<IPython.core.display.Image object>"
      ]
     },
     "metadata": {},
     "output_type": "display_data"
    },
    {
     "name": "stdout",
     "output_type": "stream",
     "text": [
      "油蔥貢丸寬粉\n",
      "寬粉條 4球, 鴻禧菇1包, 木耳, 貢丸, 紅蔥, 蔥末, 胡椒粉, 高麗菜\n",
      "https://cookpad.com/tw/%E9%A3%9F%E8%AD%9C/2891143-%E6%B2%B9%E8%94%A5%E8%B2%A2%E4%B8%B8%E5%AF%AC%E7%B2%89\n"
     ]
    },
    {
     "data": {
      "text/html": [
       "<img src=\"https://img-global.cpcdn.com/012_recipes/ebdc4d095fbb6aec/260x366cq50/photo.jpg\"/>"
      ],
      "text/plain": [
       "<IPython.core.display.Image object>"
      ]
     },
     "metadata": {},
     "output_type": "display_data"
    },
    {
     "name": "stdout",
     "output_type": "stream",
     "text": [
      "豆乳鮮果冰棒\n",
      "無糖豆漿, 蘋果, 芭樂, 甜桃, 鳳梨, 奇異果, 甜橙\n",
      "https://cookpad.com/tw/%E9%A3%9F%E8%AD%9C/2890784-%E8%B1%86%E4%B9%B3%E9%AE%AE%E6%9E%9C%E5%86%B0%E6%A3%92\n"
     ]
    },
    {
     "data": {
      "text/html": [
       "<img src=\"https://img-global.cpcdn.com/012_recipes/5d929a3c93635497/260x366cq50/photo.jpg\"/>"
      ],
      "text/plain": [
       "<IPython.core.display.Image object>"
      ]
     },
     "metadata": {},
     "output_type": "display_data"
    },
    {
     "name": "stdout",
     "output_type": "stream",
     "text": [
      "5分鐘快速上菜~絲瓜炒蛋\n",
      "絲瓜1條, 雞蛋2顆, 薑絲適量, 鹽適量, 香油適量\n",
      "https://cookpad.com/tw/%E9%A3%9F%E8%AD%9C/2890057-5%E5%88%86%E9%90%98%E5%BF%AB%E9%80%9F%E4%B8%8A%E8%8F%9C%E7%B5%B2%E7%93%9C%E7%82%92%E8%9B%8B\n"
     ]
    },
    {
     "data": {
      "text/html": [
       "<img src=\"https://img-global.cpcdn.com/012_recipes/c68c02be5b069882/260x366cq50/photo.jpg\"/>"
      ],
      "text/plain": [
       "<IPython.core.display.Image object>"
      ]
     },
     "metadata": {},
     "output_type": "display_data"
    },
    {
     "name": "stdout",
     "output_type": "stream",
     "text": [
      "蔬菜湯煮鮪魚\n",
      "鮪魚塊......100g, 醃料, 鹽......少許, 昆布粉(或昆布乾)....少許, 白米醋......1小匙, 湯汁, 黑胡椒粒.......5~6粒, 昆布乾.......少許, 水........適量, 芹菜葉.......1抓, 紅蔥頭......1顆\n",
      "https://cookpad.com/tw/%E9%A3%9F%E8%AD%9C/2890881-%E8%94%AC%E8%8F%9C%E6%B9%AF%E7%85%AE%E9%AE%AA%E9%AD%9A\n"
     ]
    },
    {
     "data": {
      "text/html": [
       "<img src=\"https://img-global.cpcdn.com/012_recipes/80b742c6fc2bbafc/260x366cq50/photo.jpg\"/>"
      ],
      "text/plain": [
       "<IPython.core.display.Image object>"
      ]
     },
     "metadata": {},
     "output_type": "display_data"
    },
    {
     "name": "stdout",
     "output_type": "stream",
     "text": [
      "奶酥粒．優格小餐包\n",
      "〔奶酥粒〕軟化的無鹽奶油a, 〔奶酥粒〕 砂糖a, 〔奶酥粒〕 低筋麵粉a, 〔麵包體〕 高筋麵粉, 〔麵包體〕 低筋麵粉b, 〔麵包體〕 速發酵母粉, 〔麵包體〕 全蛋液a, 〔麵包體〕砂糖b, 〔麵包體〕 鹽, 〔麵包體〕 原味優格, 〔麵包體〕 軟化的無鹽奶油b, 〔麵包體〕 牛奶, 〔麵包體〕 蔓越莓乾（略切）60克, 〔裝飾〕全蛋液b\n",
      "https://cookpad.com/tw/%E9%A3%9F%E8%AD%9C/2886669-%E5%A5%B6%E9%85%A5%E7%B2%92%EF%BC%8E%E5%84%AA%E6%A0%BC%E5%B0%8F%E9%A4%90%E5%8C%85\n"
     ]
    },
    {
     "data": {
      "text/html": [
       "<img src=\"https://img-global.cpcdn.com/012_recipes/095813427ebd5907/260x366cq50/photo.jpg\"/>"
      ],
      "text/plain": [
       "<IPython.core.display.Image object>"
      ]
     },
     "metadata": {},
     "output_type": "display_data"
    },
    {
     "name": "stdout",
     "output_type": "stream",
     "text": [
      "涼拌蔬果海藻絲\n",
      "海藻絲1包, 紅蘿蔔1條, 小黃瓜2條, 蘋果1顆, 檸檬1顆, 味噌麻醬, 白味噌1茶匙, 芝麻醬1茶匙, 蜂蜜適量, 白醋1茶匙, 香油1小匙\n",
      "https://cookpad.com/tw/%E9%A3%9F%E8%AD%9C/2783791-%E6%B6%BC%E6%8B%8C%E8%94%AC%E6%9E%9C%E6%B5%B7%E8%97%BB%E7%B5%B2\n"
     ]
    },
    {
     "data": {
      "text/html": [
       "<img src=\"https://img-global.cpcdn.com/012_recipes/6d47e487a2d3ff15/260x366cq50/photo.jpg\"/>"
      ],
      "text/plain": [
       "<IPython.core.display.Image object>"
      ]
     },
     "metadata": {},
     "output_type": "display_data"
    },
    {
     "name": "stdout",
     "output_type": "stream",
     "text": [
      "【影片食譜】慢煮海南雞\n",
      "材料, 海南雞, 雞 （大約一公斤重）, 薑, 紅蔥頭, 蒜頭, 芫茜, 蔥, 斑蘭葉, 水 , 酸辣汁, 指天椒, 蒜頭, 薑, 紅蔥頭, 雞湯, 白醋, 糖, 鹽 , 薑蔥油, 薑 （2隻手指大小）, 蔥, 油（可用雞油或花生油）, 鹽 , 糖, 濃醬油, 老抽, 醬油, 料酒, 糖, 油飯, 紅蔥頭, 蒜蓉, 斑蘭葉, 蔥, 米, 雞油, 雞湯 \n",
      "https://cookpad.com/tw/%E9%A3%9F%E8%AD%9C/2890414-%E5%BD%B1%E7%89%87%E9%A3%9F%E8%AD%9C%E6%85%A2%E7%85%AE%E6%B5%B7%E5%8D%97%E9%9B%9E\n"
     ]
    },
    {
     "data": {
      "text/html": [
       "<img src=\"https://img-global.cpcdn.com/012_recipes/6b27e1fc657cf2ac/260x366cq50/photo.jpg\"/>"
      ],
      "text/plain": [
       "<IPython.core.display.Image object>"
      ]
     },
     "metadata": {},
     "output_type": "display_data"
    },
    {
     "name": "stdout",
     "output_type": "stream",
     "text": [
      "老醋川耳\n",
      "川耳, 小黃瓜, 辣椒絲, 蔥花, ［調味料］, 老陳醋, 糖, 香油, 醬油\n",
      "https://cookpad.com/tw/%E9%A3%9F%E8%AD%9C/2890390-%E8%80%81%E9%86%8B%E5%B7%9D%E8%80%B3\n"
     ]
    },
    {
     "data": {
      "text/html": [
       "<img src=\"https://img-global.cpcdn.com/012_recipes/9c6b86504a3d21bf/260x366cq50/photo.jpg\"/>"
      ],
      "text/plain": [
       "<IPython.core.display.Image object>"
      ]
     },
     "metadata": {},
     "output_type": "display_data"
    },
    {
     "name": "stdout",
     "output_type": "stream",
     "text": [
      "健身必備★嫩煎雞胸★ 如何煎好一片粉嫩不柴的雞胸肉\n",
      "雞胸肉, 鹽巴, 黑胡椒\n",
      "https://cookpad.com/tw/%E9%A3%9F%E8%AD%9C/2890251-%E5%81%A5%E8%BA%AB%E5%BF%85%E5%82%99%E2%98%85%E5%AB%A9%E7%85%8E%E9%9B%9E%E8%83%B8%E2%98%85-%E5%A6%82%E4%BD%95%E7%85%8E%E5%A5%BD%E4%B8%80%E7%89%87%E7%B2%89%E5%AB%A9%E4%B8%8D%E6%9F%B4%E7%9A%84%E9%9B%9E%E8%83%B8%E8%82%89\n"
     ]
    },
    {
     "data": {
      "text/html": [
       "<img src=\"https://img-global.cpcdn.com/012_recipes/a9644aeb8121746b/260x366cq50/photo.jpg\"/>"
      ],
      "text/plain": [
       "<IPython.core.display.Image object>"
      ]
     },
     "metadata": {},
     "output_type": "display_data"
    },
    {
     "name": "stdout",
     "output_type": "stream",
     "text": [
      "紅茶果凍\n",
      "吉利丁(二片約5g), 紅茶, 糖\n",
      "https://cookpad.com/tw/%E9%A3%9F%E8%AD%9C/2890152-%E7%B4%85%E8%8C%B6%E6%9E%9C%E5%87%8D\n"
     ]
    },
    {
     "data": {
      "text/html": [
       "<img src=\"https://img-global.cpcdn.com/012_recipes/3df0ee0126274277/260x366cq50/photo.jpg\"/>"
      ],
      "text/plain": [
       "<IPython.core.display.Image object>"
      ]
     },
     "metadata": {},
     "output_type": "display_data"
    },
    {
     "name": "stdout",
     "output_type": "stream",
     "text": [
      "Dylanama ♥ 白木耳蓮子湯\n",
      "新鮮蓮子, 乾白木耳, 紅棗, 枸杞, 冰糖\n",
      "https://cookpad.com/tw/%E9%A3%9F%E8%AD%9C/2890084-dylanama-%E2%99%A5-%E7%99%BD%E6%9C%A8%E8%80%B3%E8%93%AE%E5%AD%90%E6%B9%AF\n"
     ]
    },
    {
     "data": {
      "text/html": [
       "<img src=\"https://img-global.cpcdn.com/012_recipes/9cd5df8ef2b413c6/260x366cq50/photo.jpg\"/>"
      ],
      "text/plain": [
       "<IPython.core.display.Image object>"
      ]
     },
     "metadata": {},
     "output_type": "display_data"
    },
    {
     "name": "stdout",
     "output_type": "stream",
     "text": [
      "懶人冷拌蕃茄\n",
      "牛蕃茄, 橄欖油, 黑胡椒粒, 羅勒香料, 巴薩米克醋, 鹽, 日式柴魚醬油\n",
      "https://cookpad.com/tw/%E9%A3%9F%E8%AD%9C/2889986-%E6%87%B6%E4%BA%BA%E5%86%B7%E6%8B%8C%E8%95%83%E8%8C%84\n"
     ]
    },
    {
     "data": {
      "text/html": [
       "<img src=\"https://img-global.cpcdn.com/012_recipes/3d9794eadbbae5c8/260x366cq50/photo.jpg\"/>"
      ],
      "text/plain": [
       "<IPython.core.display.Image object>"
      ]
     },
     "metadata": {},
     "output_type": "display_data"
    },
    {
     "name": "stdout",
     "output_type": "stream",
     "text": [
      "港式柱侯醬爆牛肉\n",
      "青蔥, 蒜頭, 薑, 牛肉, 胡蘿蔔, 玉米粉, 紹興酒 , 辣椒（可加/不加）, 柱侯醬\n",
      "https://cookpad.com/tw/%E9%A3%9F%E8%AD%9C/2889871-%E6%B8%AF%E5%BC%8F%E6%9F%B1%E4%BE%AF%E9%86%AC%E7%88%86%E7%89%9B%E8%82%89\n"
     ]
    },
    {
     "data": {
      "text/html": [
       "<img src=\"https://img-global.cpcdn.com/012_recipes/878899a8ea881b74/260x366cq50/photo.jpg\"/>"
      ],
      "text/plain": [
       "<IPython.core.display.Image object>"
      ]
     },
     "metadata": {},
     "output_type": "display_data"
    },
    {
     "name": "stdout",
     "output_type": "stream",
     "text": [
      "自製湯圓\n",
      "糯米粉, 水, 以上是湯圓的材料, 以下是鹹湯圓和甜湯圓的材料, 豬肉絲, 韭菜, 青蔥, 香菜, 蒜苗, 香菇, 蝦米, 蠔油, 上面是鹹湯圓的材料, 薑 , 地瓜, 黑糖, 砂糖\n",
      "https://cookpad.com/tw/%E9%A3%9F%E8%AD%9C/2889577-%E8%87%AA%E8%A3%BD%E6%B9%AF%E5%9C%93\n"
     ]
    },
    {
     "data": {
      "text/html": [
       "<img src=\"https://img-global.cpcdn.com/012_recipes/a24314bf3972d0ec/260x366cq50/photo.jpg\"/>"
      ],
      "text/plain": [
       "<IPython.core.display.Image object>"
      ]
     },
     "metadata": {},
     "output_type": "display_data"
    }
   ],
   "source": [
    "from IPython.display import Image, display\n",
    "for row in soup.find_all(\"li\", id=re.compile(\"^recipe_\")):\n",
    "    print row.find(\"img\").attrs[\"alt\"]\n",
    "    words = json.loads(row.find(\"div\", {\"class\": \"wide-card__body\"}).attrs[\"data-words\"])\n",
    "    print \", \".join(words)\n",
    "    print \"https://cookpad.com\" + row.find(\"a\").attrs[\"href\"]\n",
    "    display(Image(url=row.find(\"img\").attrs[\"src\"]))"
   ]
  }
 ],
 "metadata": {
  "kernelspec": {
   "display_name": "Python 2",
   "language": "python",
   "name": "python2"
  },
  "language_info": {
   "codemirror_mode": {
    "name": "ipython",
    "version": 2
   },
   "file_extension": ".py",
   "mimetype": "text/x-python",
   "name": "python",
   "nbconvert_exporter": "python",
   "pygments_lexer": "ipython2",
   "version": "2.7.12"
  }
 },
 "nbformat": 4,
 "nbformat_minor": 2
}
