{
 "cells": [
  {
   "cell_type": "code",
   "execution_count": 1,
   "metadata": {
    "collapsed": true
   },
   "outputs": [],
   "source": [
    "import pandas as pd\n",
    "import numpy as np"
   ]
  },
  {
   "cell_type": "code",
   "execution_count": 2,
   "metadata": {
    "collapsed": false
   },
   "outputs": [
    {
     "name": "stdout",
     "output_type": "stream",
     "text": [
      "[1 1 1]\n",
      "[1 1 1]\n"
     ]
    }
   ],
   "source": [
    "# 1. Create Pandas DataFrame\n",
    "\n",
    "# A structured array\n",
    "my_arr = np.ones(3, dtype=([('foo', int), ('bar', float)]))\n",
    "print my_arr['foo']\n",
    "\n",
    "# A record array\n",
    "my_arr2 = my_arr.view(np.recarray)\n",
    "print my_arr2.foo"
   ]
  },
  {
   "cell_type": "code",
   "execution_count": 3,
   "metadata": {
    "collapsed": false
   },
   "outputs": [
    {
     "name": "stdout",
     "output_type": "stream",
     "text": [
      "     Col1 Col2\n",
      "Row1    1    2\n",
      "Row2    3    4\n"
     ]
    }
   ],
   "source": [
    "data = np.array([['', 'Col1', 'Col2'],\n",
    "                 ['Row1', 1, 2],\n",
    "                 ['Row2', 3, 4]])\n",
    "print pd.DataFrame(data=data[1:, 1:],\n",
    "                  index=data[1:, 0],\n",
    "                  columns=data[0, 1:])"
   ]
  },
  {
   "cell_type": "code",
   "execution_count": 4,
   "metadata": {
    "collapsed": false
   },
   "outputs": [
    {
     "name": "stdout",
     "output_type": "stream",
     "text": [
      "   0  1  2\n",
      "0  1  2  3\n",
      "1  4  5  6\n"
     ]
    }
   ],
   "source": [
    "# Take a 2D array as input to DataFrame\n",
    "my_arr = np.array([[1, 2, 3], [4, 5, 6]])\n",
    "print pd.DataFrame(my_arr)"
   ]
  },
  {
   "cell_type": "code",
   "execution_count": 5,
   "metadata": {
    "collapsed": false
   },
   "outputs": [
    {
     "name": "stdout",
     "output_type": "stream",
     "text": [
      "   1  2  3\n",
      "0  1  1  2\n",
      "1  3  2  4\n"
     ]
    }
   ],
   "source": [
    "# Take a dictionary as input to DataFrame\n",
    "my_dict = {\n",
    "    1: ['1', '3'],\n",
    "    2: ['1', '2'],\n",
    "    3: ['2', '4']\n",
    "}\n",
    "print pd.DataFrame(my_dict)"
   ]
  },
  {
   "cell_type": "code",
   "execution_count": 6,
   "metadata": {
    "collapsed": false
   },
   "outputs": [
    {
     "name": "stdout",
     "output_type": "stream",
     "text": [
      "   A\n",
      "0  4\n",
      "1  5\n",
      "2  6\n",
      "3  7\n"
     ]
    }
   ],
   "source": [
    "# Take a DataFrame as input to DataFrame\n",
    "my_df = pd.DataFrame(data=[4, 5, 6, 7],\n",
    "                    index=range(0, 4),\n",
    "                    columns=['A'])\n",
    "print pd.DataFrame(my_df)"
   ]
  },
  {
   "cell_type": "code",
   "execution_count": 7,
   "metadata": {
    "collapsed": false
   },
   "outputs": [
    {
     "name": "stdout",
     "output_type": "stream",
     "text": [
      "                        0\n",
      "Belgium          Brussels\n",
      "India           New Delhi\n",
      "United Kindom      London\n",
      "United States  Washington\n"
     ]
    }
   ],
   "source": [
    "# Take a Series as input to DataFrame\n",
    "my_series = pd.Series({\n",
    "    \"United Kindom\": \"London\",\n",
    "    \"India\": \"New Delhi\",\n",
    "    \"United States\": \"Washington\",\n",
    "    \"Belgium\": \"Brussels\"\n",
    "})\n",
    "print pd.DataFrame(my_series)"
   ]
  },
  {
   "cell_type": "code",
   "execution_count": 8,
   "metadata": {
    "collapsed": false
   },
   "outputs": [
    {
     "name": "stdout",
     "output_type": "stream",
     "text": [
      "   0  1  2\n",
      "0  1  2  3\n",
      "1  4  5  6\n",
      "Height and Width of dataframe: (2, 3)\n",
      "Height of dataframe: 2\n",
      "Columns: [0 1 2]\n"
     ]
    }
   ],
   "source": [
    "df = pd.DataFrame(my_arr)\n",
    "print df\n",
    "\n",
    "# Use the `shape` property\n",
    "print \"Height and Width of dataframe:\", df.shape\n",
    "\n",
    "# Or use the `len()` function with the `property`\n",
    "print \"Height of dataframe:\", len(df.index)\n",
    "\n",
    "print \"Columns:\", df.columns.values"
   ]
  },
  {
   "cell_type": "code",
   "execution_count": 9,
   "metadata": {
    "collapsed": false
   },
   "outputs": [
    {
     "name": "stdout",
     "output_type": "stream",
     "text": [
      "   A  B  C\n",
      "0  1  2  3\n",
      "1  4  5  6\n",
      "2  7  8  9\n",
      "1\n",
      "1\n",
      "1\n",
      "1\n",
      "1\n"
     ]
    }
   ],
   "source": [
    "# 2. Select and Index or Column From a Pandas DataFrame\n",
    "\n",
    "data = np.arange(1, 10).reshape((3, 3))\n",
    "df = pd.DataFrame(data=data, columns=['A', 'B', 'C'])\n",
    "print df\n",
    "\n",
    "# Using `iloc[]`, integer-location\n",
    "print df.iloc[0][0]\n",
    "\n",
    "# Using `loc[]`, label-location\n",
    "print df.loc[0]['A']\n",
    "\n",
    "# Using `at[]`\n",
    "print df.at[0, 'A']\n",
    "\n",
    "# Using `iat[]`\n",
    "print df.iat[0, 0]\n",
    "\n",
    "# Using `get_value(index, column)`\n",
    "print df.get_value(0, 'A')"
   ]
  },
  {
   "cell_type": "code",
   "execution_count": 10,
   "metadata": {
    "collapsed": false
   },
   "outputs": [
    {
     "name": "stdout",
     "output_type": "stream",
     "text": [
      "A    1\n",
      "B    2\n",
      "C    3\n",
      "Name: 0, dtype: int64\n",
      "0    1\n",
      "1    4\n",
      "2    7\n",
      "Name: A, dtype: int64\n"
     ]
    }
   ],
   "source": [
    "# Use `iloc[]` to select a row\n",
    "print df.iloc[0]\n",
    "\n",
    "# Use `loc[]` to select a column\n",
    "print df.loc[:, 'A']"
   ]
  },
  {
   "cell_type": "code",
   "execution_count": 11,
   "metadata": {
    "collapsed": false
   },
   "outputs": [
    {
     "name": "stdout",
     "output_type": "stream",
     "text": [
      "   A  B  C\n",
      "0  1  2  3\n",
      "1  4  5  6\n",
      "   A  B\n",
      "C      \n",
      "3  1  2\n",
      "6  4  5\n"
     ]
    }
   ],
   "source": [
    "# 3. Add an Index, Row or Column to a Pandas DataFrame\n",
    "\n",
    "# Adding an Index to DataFrame\n",
    "data = np.arange(1, 7).reshape(2, 3)\n",
    "df = pd.DataFrame(data=data, columns=['A', 'B', 'C'])\n",
    "print df\n",
    "print df.set_index('C')"
   ]
  },
  {
   "cell_type": "code",
   "execution_count": 12,
   "metadata": {
    "collapsed": false
   },
   "outputs": [
    {
     "name": "stdout",
     "output_type": "stream",
     "text": [
      "   48  49  50\n",
      "2   1   2   3\n",
      "A   4   5   6\n",
      "4   7   8   9\n",
      "\n",
      "48    1\n",
      "49    2\n",
      "50    3\n",
      "Name: 2, dtype: int64\n",
      "\n",
      "48    7\n",
      "49    8\n",
      "50    9\n",
      "Name: 4, dtype: int64\n",
      "\n",
      "48    7\n",
      "49    8\n",
      "50    9\n",
      "Name: 4, dtype: int64\n"
     ]
    }
   ],
   "source": [
    "# Adding Rows to DataFrame\n",
    "data = np.arange(1, 10).reshape(3, 3)\n",
    "df = pd.DataFrame(data=data,\n",
    "                 index=[2, 'A', 4],\n",
    "                 columns=[48, 49, 50])\n",
    "print df\n",
    "print\n",
    "print df.loc[2]\n",
    "print \n",
    "print df.iloc[2]\n",
    "print\n",
    "# if Index are solely integer-based .ix = .loc else .ix = .iloc\n",
    "print df.ix[2]"
   ]
  },
  {
   "cell_type": "code",
   "execution_count": 13,
   "metadata": {
    "collapsed": false
   },
   "outputs": [
    {
     "name": "stdout",
     "output_type": "stream",
     "text": [
      "      48  49  50\n",
      "2.5    1   2   3\n",
      "12.6   4   5   6\n",
      "4.8    7   8   9\n",
      "\n",
      "      48  49  50\n",
      "2.5    1   2   3\n",
      "12.6   4   5   6\n",
      "4.8   60  50  40\n",
      "\n",
      "      48  49  50\n",
      "2.5    1   2   3\n",
      "12.6   4   5   6\n",
      "4.8   60  50  40\n",
      "2.0   11  12  13\n"
     ]
    }
   ],
   "source": [
    "data = np.arange(1, 10).reshape(3, 3)\n",
    "df = pd.DataFrame(data=data,\n",
    "                 index=[2.5, 12.6, 4.8],\n",
    "                 columns=[48, 49, 50])\n",
    "print df\n",
    "print\n",
    "\n",
    "# There's no index labeled `2`, so you will change the index at position `2`\n",
    "# .ix = .iloc here\n",
    "df.ix[2] = [60, 50, 40]\n",
    "print df\n",
    "\n",
    "print\n",
    "\n",
    "# This will make an index labeled `2` and add the new values\n",
    "df.loc[2] = [11, 12, 13]\n",
    "print df"
   ]
  },
  {
   "cell_type": "code",
   "execution_count": 14,
   "metadata": {
    "collapsed": false
   },
   "outputs": [
    {
     "name": "stdout",
     "output_type": "stream",
     "text": [
      "   A  B  C\n",
      "0  1  2  3\n",
      "1  4  5  6\n",
      "2  7  8  9\n",
      "\n",
      "   A  B  C  D\n",
      "0  1  2  3  0\n",
      "1  4  5  6  1\n",
      "2  7  8  9  2\n"
     ]
    }
   ],
   "source": [
    "# Adding a Column to DataFrame\n",
    "data = np.arange(1, 10).reshape(3, 3)\n",
    "df = pd.DataFrame(data=data, columns=['A', 'B', 'C'])\n",
    "print df\n",
    "print\n",
    "\n",
    "# Use `.index`\n",
    "df['D'] = df.index\n",
    "print df"
   ]
  },
  {
   "cell_type": "code",
   "execution_count": 15,
   "metadata": {
    "collapsed": false
   },
   "outputs": [
    {
     "name": "stdout",
     "output_type": "stream",
     "text": [
      "   1  2  3\n",
      "0  1  1  2\n",
      "1  3  2  4\n",
      "\n",
      "   1  2  3  4\n",
      "0  1  1  2  5\n",
      "1  3  2  4  6\n"
     ]
    }
   ],
   "source": [
    "df = pd.DataFrame(data=np.array([[1, 1, 2], [3, 2, 4]]), columns=range(1, 4))\n",
    "print df\n",
    "print\n",
    "\n",
    "# Append a column to `df`\n",
    "df.loc[:, 4] = pd.Series(['5', '6'], index=df.index)\n",
    "print df"
   ]
  },
  {
   "cell_type": "code",
   "execution_count": 16,
   "metadata": {
    "collapsed": false
   },
   "outputs": [
    {
     "name": "stdout",
     "output_type": "stream",
     "text": [
      "      48  49  50\n",
      "2.5    1   2   3\n",
      "12.6   4   5   6\n",
      "4.8    7   8   9\n",
      "\n",
      "   48  49  50\n",
      "0   1   2   3\n",
      "1   4   5   6\n",
      "2   7   8   9\n",
      "\n",
      "   index  48  49  50\n",
      "0    2.5   1   2   3\n",
      "1   12.6   4   5   6\n",
      "2    4.8   7   8   9\n"
     ]
    }
   ],
   "source": [
    "data = np.arange(1, 10).reshape(3, 3)\n",
    "df = pd.DataFrame(data=data,\n",
    "                 index=[2.5, 12.6, 4.8],\n",
    "                 columns=[48, 49, 50])\n",
    "print df\n",
    "print\n",
    "\n",
    "print df.reset_index(level=0, drop=True)\n",
    "print\n",
    "\n",
    "df.reset_index(level=0, inplace=True)\n",
    "print df"
   ]
  },
  {
   "cell_type": "code",
   "execution_count": 17,
   "metadata": {
    "collapsed": false
   },
   "outputs": [
    {
     "data": {
      "text/html": [
       "<div>\n",
       "<table border=\"1\" class=\"dataframe\">\n",
       "  <thead>\n",
       "    <tr style=\"text-align: right;\">\n",
       "      <th></th>\n",
       "      <th>48</th>\n",
       "      <th>49</th>\n",
       "      <th>50</th>\n",
       "    </tr>\n",
       "    <tr>\n",
       "      <th>index</th>\n",
       "      <th></th>\n",
       "      <th></th>\n",
       "      <th></th>\n",
       "    </tr>\n",
       "  </thead>\n",
       "  <tbody>\n",
       "    <tr>\n",
       "      <th>12.6</th>\n",
       "      <td>4</td>\n",
       "      <td>5</td>\n",
       "      <td>6</td>\n",
       "    </tr>\n",
       "    <tr>\n",
       "      <th>4.8</th>\n",
       "      <td>40</td>\n",
       "      <td>50</td>\n",
       "      <td>60</td>\n",
       "    </tr>\n",
       "    <tr>\n",
       "      <th>2.5</th>\n",
       "      <td>23</td>\n",
       "      <td>35</td>\n",
       "      <td>37</td>\n",
       "    </tr>\n",
       "  </tbody>\n",
       "</table>\n",
       "</div>"
      ],
      "text/plain": [
       "       48  49  50\n",
       "index            \n",
       "12.6    4   5   6\n",
       "4.8    40  50  60\n",
       "2.5    23  35  37"
      ]
     },
     "execution_count": 17,
     "metadata": {},
     "output_type": "execute_result"
    }
   ],
   "source": [
    "# 4. Delete Indices, Rows or Columns\n",
    "\n",
    "# Deleting Index\n",
    "df = pd.DataFrame(data=np.array([[1, 2, 3], [4, 5, 6], [7, 8, 9], [40, 50, 60], [23, 35, 37]]),\n",
    "                  index=[2.5, 12.6, 4.8, 4.8, 2.5],\n",
    "                  columns=[48, 49, 50])\n",
    "df.reset_index().drop_duplicates(subset='index', keep='last').set_index('index')"
   ]
  },
  {
   "cell_type": "code",
   "execution_count": 18,
   "metadata": {
    "collapsed": false
   },
   "outputs": [
    {
     "name": "stdout",
     "output_type": "stream",
     "text": [
      "   A  B  C\n",
      "0  1  2  3\n",
      "1  4  5  6\n",
      "2  7  8  9\n",
      "   B  C\n",
      "0  2  3\n",
      "1  5  6\n",
      "2  8  9\n",
      "   B\n",
      "0  2\n",
      "1  5\n",
      "2  8\n"
     ]
    }
   ],
   "source": [
    "# Deleting a Column\n",
    "data = np.arange(1, 10).reshape(3, 3)\n",
    "df = pd.DataFrame(data=data, columns=list('ABC'))\n",
    "print df\n",
    "\n",
    "# Drop the column with label 'A'\n",
    "df.drop('A', axis=1, inplace=True)\n",
    "print df\n",
    "\n",
    "# Drop the column at position 1\n",
    "print df.drop(df.columns[[1]], axis=1)"
   ]
  },
  {
   "cell_type": "code",
   "execution_count": 19,
   "metadata": {
    "collapsed": false
   },
   "outputs": [
    {
     "name": "stdout",
     "output_type": "stream",
     "text": [
      "      48  49  50  50\n",
      "2.5    1   2   3   4\n",
      "12.6   4   5   6   5\n",
      "4.8    7   8   9   6\n",
      "4.8   23  50  60   7\n",
      "2.5   23  35  37  23\n",
      "\n",
      "      48  49  50  50\n",
      "2.5    1   2   3   4\n",
      "12.6   4   5   6   5\n",
      "4.8    7   8   9   6\n",
      "2.5   23  35  37  23\n"
     ]
    }
   ],
   "source": [
    "## Removing a Row\n",
    "data = np.array([\n",
    "    [1, 2, 3, 4],\n",
    "    [4, 5, 6, 5],\n",
    "    [7, 8, 9, 6],\n",
    "    [23, 50, 60, 7],\n",
    "    [23, 35, 37, 23]\n",
    "])\n",
    "df = pd.DataFrame(data=data, index=[2.5, 12.6, 4.8, 4.8, 2.5], columns=[48, 49, 50, 50])\n",
    "print df\n",
    "print\n",
    "\n",
    "# Drop the duplicates in `df`\n",
    "print df.drop_duplicates([48], keep='last')"
   ]
  },
  {
   "cell_type": "code",
   "execution_count": 20,
   "metadata": {
    "collapsed": false
   },
   "outputs": [
    {
     "name": "stdout",
     "output_type": "stream",
     "text": [
      "   A  B  C\n",
      "0  1  2  3\n",
      "1  4  5  6\n",
      "2  7  8  9\n",
      "\n",
      "   A  B  C\n",
      "0  1  2  3\n",
      "2  7  8  9\n",
      "\n",
      "   A  B  C\n",
      "0  1  2  3\n",
      "1  7  8  9\n"
     ]
    }
   ],
   "source": [
    "data = np.arange(1, 10).reshape(3, 3)\n",
    "df = pd.DataFrame(data=data, columns=list('ABC'))\n",
    "print df\n",
    "print\n",
    "\n",
    "# Drop the index at position 1\n",
    "df = df.drop(df.index[1])\n",
    "print df\n",
    "print\n",
    "print df.reset_index(level=0, drop=True)"
   ]
  },
  {
   "cell_type": "code",
   "execution_count": 21,
   "metadata": {
    "collapsed": false
   },
   "outputs": [
    {
     "name": "stdout",
     "output_type": "stream",
     "text": [
      "   A  B  C\n",
      "0  1  2  3\n",
      "1  4  5  6\n",
      "2  7  8  9\n",
      "   new_column_1  new_column_2  new_column_3\n",
      "0             1             2             3\n",
      "1             4             5             6\n",
      "2             7             8             9\n",
      "   new_column_1  new_column_2  new_column_3\n",
      "0             1             2             3\n",
      "a             4             5             6\n",
      "2             7             8             9\n"
     ]
    }
   ],
   "source": [
    "# 5. Rename Index or Columns\n",
    "df = pd.DataFrame(data=data, columns=list('ABC'))\n",
    "print df\n",
    "\n",
    "# Define the new names of your columns\n",
    "newcols = {\n",
    "    'A': 'new_column_1',\n",
    "    'B': 'new_column_2',\n",
    "    'C': 'new_column_3'\n",
    "}\n",
    "\n",
    "# Use `rename()` to rename your columns\n",
    "df.rename(columns=newcols, inplace=True)\n",
    "print df\n",
    "\n",
    "# Rename your index\n",
    "print df.rename(index={1: 'a'})"
   ]
  },
  {
   "cell_type": "code",
   "execution_count": 22,
   "metadata": {
    "collapsed": false
   },
   "outputs": [
    {
     "data": {
      "text/html": [
       "<div>\n",
       "<table border=\"1\" class=\"dataframe\">\n",
       "  <thead>\n",
       "    <tr style=\"text-align: right;\">\n",
       "      <th></th>\n",
       "      <th>Student1</th>\n",
       "      <th>Student2</th>\n",
       "      <th>Student3</th>\n",
       "    </tr>\n",
       "  </thead>\n",
       "  <tbody>\n",
       "    <tr>\n",
       "      <th>0</th>\n",
       "      <td>2</td>\n",
       "      <td>4</td>\n",
       "      <td>3</td>\n",
       "    </tr>\n",
       "    <tr>\n",
       "      <th>1</th>\n",
       "      <td>0</td>\n",
       "      <td>0</td>\n",
       "      <td>4</td>\n",
       "    </tr>\n",
       "    <tr>\n",
       "      <th>2</th>\n",
       "      <td>3</td>\n",
       "      <td>2</td>\n",
       "      <td>1</td>\n",
       "    </tr>\n",
       "  </tbody>\n",
       "</table>\n",
       "</div>"
      ],
      "text/plain": [
       "   Student1  Student2  Student3\n",
       "0         2         4         3\n",
       "1         0         0         4\n",
       "2         3         2         1"
      ]
     },
     "execution_count": 22,
     "metadata": {},
     "output_type": "execute_result"
    }
   ],
   "source": [
    "# 6. Format the data\n",
    "data = np.array([\n",
    "    ['OK', 'Perfect', 'Acceptable'],\n",
    "    ['Awful', 'Awful', 'Perfect'],\n",
    "    ['Acceptable', 'OK', 'Poor']\n",
    "])\n",
    "df = pd.DataFrame(data=data,\n",
    "            columns=['Student1', 'Student2', 'Student3'])\n",
    "# Replace the strings by numerical values (0-4)\n",
    "df.replace(['Awful', 'Poor', 'OK', 'Acceptable', 'Perfect'], [0, 1, 2, 3, 4])"
   ]
  },
  {
   "cell_type": "code",
   "execution_count": 23,
   "metadata": {
    "collapsed": false
   },
   "outputs": [
    {
     "data": {
      "text/html": [
       "<div>\n",
       "<table border=\"1\" class=\"dataframe\">\n",
       "  <thead>\n",
       "    <tr style=\"text-align: right;\">\n",
       "      <th></th>\n",
       "      <th>0</th>\n",
       "      <th>1</th>\n",
       "      <th>2</th>\n",
       "    </tr>\n",
       "  </thead>\n",
       "  <tbody>\n",
       "    <tr>\n",
       "      <th>0</th>\n",
       "      <td>1&lt;br&gt;</td>\n",
       "      <td>2</td>\n",
       "      <td>3&lt;br&gt;</td>\n",
       "    </tr>\n",
       "    <tr>\n",
       "      <th>1</th>\n",
       "      <td>4</td>\n",
       "      <td>5</td>\n",
       "      <td>6&lt;br&gt;</td>\n",
       "    </tr>\n",
       "    <tr>\n",
       "      <th>2</th>\n",
       "      <td>7</td>\n",
       "      <td>8&lt;br&gt;</td>\n",
       "      <td>9</td>\n",
       "    </tr>\n",
       "  </tbody>\n",
       "</table>\n",
       "</div>"
      ],
      "text/plain": [
       "       0      1      2\n",
       "0  1<br>      2  3<br>\n",
       "1      4      5  6<br>\n",
       "2      7  8<br>      9"
      ]
     },
     "execution_count": 23,
     "metadata": {},
     "output_type": "execute_result"
    }
   ],
   "source": [
    "data = np.array([\n",
    "    ['1\\n', '2', '3\\n'],\n",
    "    ['4', '5', '6\\n'],\n",
    "    ['7', '8\\n', '9']\n",
    "])\n",
    "df = pd.DataFrame(data=data)\n",
    "# Replace strings by others with `regex`\n",
    "df.replace({'\\n': '<br>'}, regex=True)"
   ]
  },
  {
   "cell_type": "code",
   "execution_count": 24,
   "metadata": {
    "collapsed": false
   },
   "outputs": [
    {
     "name": "stdout",
     "output_type": "stream",
     "text": [
      "  class test result\n",
      "0     1    2    +3b\n",
      "1     4    5    -6B\n",
      "2     7    8    +9A\n",
      "\n",
      "  class test result\n",
      "0     1    2      3\n",
      "1     4    5      6\n",
      "2     7    8      9\n"
     ]
    }
   ],
   "source": [
    "data = np.array([\n",
    "    ['1', '2', '+3b'],\n",
    "    ['4', '5', '-6B'],\n",
    "    ['7', '8', '+9A']\n",
    "])\n",
    "df = pd.DataFrame(data=data, \n",
    "                 columns=['class', 'test', 'result'])\n",
    "print df\n",
    "print\n",
    "\n",
    "# Delete unwanted pars from the strings in the `result` column\n",
    "df['result'] = df['result'].map(lambda x: x.lstrip('+-').rstrip('aAbBcC'))\n",
    "print df"
   ]
  },
  {
   "cell_type": "code",
   "execution_count": 25,
   "metadata": {
    "collapsed": false
   },
   "outputs": [
    {
     "name": "stdout",
     "output_type": "stream",
     "text": [
      "  Age PlusOne             Ticket\n",
      "0  34       0           23:44:55\n",
      "1  22       0           66:77:88\n",
      "2  19       1  43:68:05 56:34:12\n",
      "\n",
      "0  0    23:44:55\n",
      "1  0    66:77:88\n",
      "2  0    43:68:05\n",
      "   1    56:34:12\n",
      "dtype: object\n",
      "          0         1\n",
      "0  23:44:55      None\n",
      "1  66:77:88      None\n",
      "2  43:68:05  56:34:12\n",
      "\n",
      "0    23:44:55\n",
      "1    66:77:88\n",
      "2    43:68:05\n",
      "2    56:34:12\n",
      "dtype: object\n",
      "\n",
      "  Age PlusOne         0\n",
      "0  34       0  23:44:55\n",
      "1  22       0  66:77:88\n",
      "2  19       1  43:68:05\n",
      "2  19       1  56:34:12\n"
     ]
    }
   ],
   "source": [
    "# Splitting Text in a Column into Multiple Rows in a DataFrame\n",
    "data = np.array([\n",
    "        [34, 0, '23:44:55'],\n",
    "        [22, 0, '66:77:88'],\n",
    "        [19, 1, '43:68:05 56:34:12']\n",
    "    ])\n",
    "df = pd.DataFrame(data=data,\n",
    "                 columns=['Age', 'PlusOne', 'Ticket'])\n",
    "print df\n",
    "print \n",
    "\n",
    "# Split out the two values in the third row\n",
    "# Make it a Series\n",
    "# Stack the values\n",
    "ticket_series = df['Ticket'].str.split(' ').apply(pd.Series, 1).stack()\n",
    "print ticket_series\n",
    "print ticket_series.unstack()\n",
    "print\n",
    "\n",
    "# Get rid of the stack:\n",
    "# Drop the level to line up with the DataFrame\n",
    "ticket_series.index = ticket_series.index.droplevel(-1)\n",
    "print ticket_series\n",
    "print\n",
    "\n",
    "# Make your series a dataframe\n",
    "ticketdf = pd.DataFrame(ticket_series)\n",
    "\n",
    "# Delete the `Ticket` column from DataFrame\n",
    "del df['Ticket']\n",
    "\n",
    "# Join the ticket DataFrame to `df`\n",
    "print df.join(ticketdf)"
   ]
  },
  {
   "cell_type": "code",
   "execution_count": 26,
   "metadata": {
    "collapsed": false
   },
   "outputs": [
    {
     "name": "stdout",
     "output_type": "stream",
     "text": [
      "   A  B  C\n",
      "0  1  2  3\n",
      "1  4  5  6\n",
      "2  7  8  9\n",
      "\n",
      "0     2\n",
      "1     8\n",
      "2    14\n",
      "Name: A, dtype: int64\n",
      "A    2\n",
      "B    4\n",
      "C    6\n",
      "Name: 0, dtype: int64\n",
      "A    2\n",
      "B    4\n",
      "C    6\n",
      "Name: 0, dtype: int64\n",
      "    A   B   C\n",
      "0   2   4   6\n",
      "1   8  10  12\n",
      "2  14  16  18\n"
     ]
    }
   ],
   "source": [
    "doubler = lambda x: x * 2\n",
    "data = np.arange(1, 10).reshape(3, 3)\n",
    "df = pd.DataFrame(data=data,\n",
    "                 columns=list('ABC'))\n",
    "print df\n",
    "print\n",
    "print df['A'].apply(doubler)\n",
    "print df.loc[0].apply(doubler)\n",
    "print df.loc[0].map(doubler)\n",
    "print df.applymap(doubler)"
   ]
  },
  {
   "cell_type": "code",
   "execution_count": 27,
   "metadata": {
    "collapsed": false
   },
   "outputs": [
    {
     "name": "stdout",
     "output_type": "stream",
     "text": [
      "    A\n",
      "0 NaN\n",
      "1 NaN\n",
      "2 NaN\n",
      "3 NaN\n",
      "    A\n",
      "0 NaN\n",
      "1 NaN\n",
      "2 NaN\n",
      "3 NaN\n"
     ]
    }
   ],
   "source": [
    "# 7. Create an Empty DataFrame\n",
    "df = pd.DataFrame(np.nan, index=[0, 1, 2, 3], columns=['A'])\n",
    "print df\n",
    "\n",
    "df = pd.DataFrame(index=range(0, 4), columns=['A'], dtype='float')\n",
    "print df"
   ]
  },
  {
   "cell_type": "code",
   "execution_count": 28,
   "metadata": {
    "collapsed": true
   },
   "outputs": [],
   "source": [
    "# 8. Recognize Date when importing data\n",
    "# pd.read_csv('filename', prase_dates=True)\n",
    "# pd.read_csv('filename', prase_dates=['columnName'])\n",
    "\n",
    "# Custom your own parser\n",
    "# dateparser = lambda x: pd.datetime.strptime(x, '%Y-%m-%d %H:%M:%S')\n",
    "# pd.read_csv('filename', prase_dates=['columnName'], date_parser=dateparser)\n",
    "\n",
    "# Combine two columns into a single DateTime column\n",
    "# pd.read_csv('filename, parse_dates={'datetime: ['date', 'time']}, date_parser=dateparser)"
   ]
  },
  {
   "cell_type": "code",
   "execution_count": 29,
   "metadata": {
    "collapsed": false
   },
   "outputs": [
    {
     "name": "stdout",
     "output_type": "stream",
     "text": [
      "        category   price    store  testscore\n",
      "0       Cleaning   11.42  Walmart          4\n",
      "1       Cleaning   23.50      Dia          3\n",
      "2  Entertainment   19.99  Walmart          5\n",
      "3  Entertainment   15.95     Fnac          7\n",
      "4           Tech   55.75      Dia          5\n",
      "5           Tech  111.55  Walmart          8\n",
      "\n",
      "store            Dia   Fnac  Walmart\n",
      "category                            \n",
      "Cleaning       23.50    NaN    11.42\n",
      "Entertainment    NaN  15.95    19.99\n",
      "Tech           55.75    NaN   111.55\n",
      "\n",
      "               price                testscore             \n",
      "store            Dia   Fnac Walmart       Dia Fnac Walmart\n",
      "category                                                  \n",
      "Cleaning       23.50    NaN   11.42       3.0  NaN     4.0\n",
      "Entertainment    NaN  15.95   19.99       NaN  7.0     5.0\n",
      "Tech           55.75    NaN  111.55       5.0  NaN     8.0\n",
      "\n",
      "store            Dia   Fnac  Walmart\n",
      "category                            \n",
      "Cleaning       23.50    NaN    11.42\n",
      "Entertainment    NaN  15.95    19.99\n",
      "Tech           55.75    NaN   111.55\n"
     ]
    }
   ],
   "source": [
    "# 9. When Why, How you should Reshape your DataFrame\n",
    "\n",
    "# Pivoting DataFrame\n",
    "products = pd.DataFrame({\n",
    "    \"category\": [\"Cleaning\", \"Cleaning\", \"Entertainment\", \"Entertainment\", \"Tech\", \"Tech\"],\n",
    "    \"store\": [\"Walmart\", \"Dia\", \"Walmart\", \"Fnac\", \"Dia\", \"Walmart\"],\n",
    "    \"price\": [11.42, 23.50, 19.99, 15.95, 55.75, 111.55],\n",
    "    \"testscore\": [4, 3, 5, 7, 5, 8]\n",
    "})\n",
    "print products\n",
    "print \n",
    "\n",
    "# Use `pivot()` to pivot the DataFrame\n",
    "print products.pivot(index='category', columns='store', values='price')\n",
    "print\n",
    "print products.pivot(index='category', columns='store')\n",
    "print\n",
    "\n",
    "# `pivot_table()`\n",
    "print products.pivot_table(index='category', columns='store', values='price', aggfunc='mean')"
   ]
  },
  {
   "cell_type": "code",
   "execution_count": 30,
   "metadata": {
    "collapsed": false
   },
   "outputs": [
    {
     "data": {
      "text/html": [
       "<div>\n",
       "<table border=\"1\" class=\"dataframe\">\n",
       "  <thead>\n",
       "    <tr style=\"text-align: right;\">\n",
       "      <th></th>\n",
       "      <th>FirstName</th>\n",
       "      <th>LastName</th>\n",
       "      <th>measurements</th>\n",
       "      <th>value</th>\n",
       "    </tr>\n",
       "  </thead>\n",
       "  <tbody>\n",
       "    <tr>\n",
       "      <th>0</th>\n",
       "      <td>John</td>\n",
       "      <td>Doe</td>\n",
       "      <td>BloodType</td>\n",
       "      <td>A-</td>\n",
       "    </tr>\n",
       "    <tr>\n",
       "      <th>1</th>\n",
       "      <td>Jane</td>\n",
       "      <td>Austen</td>\n",
       "      <td>BloodType</td>\n",
       "      <td>B+</td>\n",
       "    </tr>\n",
       "    <tr>\n",
       "      <th>2</th>\n",
       "      <td>John</td>\n",
       "      <td>Doe</td>\n",
       "      <td>Weight</td>\n",
       "      <td>90</td>\n",
       "    </tr>\n",
       "    <tr>\n",
       "      <th>3</th>\n",
       "      <td>Jane</td>\n",
       "      <td>Austen</td>\n",
       "      <td>Weight</td>\n",
       "      <td>64</td>\n",
       "    </tr>\n",
       "  </tbody>\n",
       "</table>\n",
       "</div>"
      ],
      "text/plain": [
       "  FirstName LastName measurements value\n",
       "0      John      Doe    BloodType    A-\n",
       "1      Jane   Austen    BloodType    B+\n",
       "2      John      Doe       Weight    90\n",
       "3      Jane   Austen       Weight    64"
      ]
     },
     "execution_count": 30,
     "metadata": {},
     "output_type": "execute_result"
    }
   ],
   "source": [
    "# Reshaping With `Melt()`\n",
    "df = pd.DataFrame({\n",
    "    'FirstName': ['John', 'Jane'],\n",
    "    'LastName': ['Doe', 'Austen'],\n",
    "    'BloodType': ['A-', 'B+'],\n",
    "    'Weight': [90, 64]\n",
    "})\n",
    "# Use `melt()`\n",
    "pd.melt(df, id_vars=['FirstName', 'LastName'], var_name='measurements')"
   ]
  },
  {
   "cell_type": "code",
   "execution_count": 31,
   "metadata": {
    "collapsed": false
   },
   "outputs": [
    {
     "name": "stdout",
     "output_type": "stream",
     "text": [
      "   A  B  C\n",
      "0  1  2  3\n",
      "1  4  5  6\n",
      "2  7  8  9\n",
      "1 2\n",
      "4 5\n",
      "7 8\n"
     ]
    }
   ],
   "source": [
    "# 10. Iterate over a DataFrame\n",
    "data = np.arange(1, 10).reshape(3, 3)\n",
    "df = pd.DataFrame(data=data, columns=list('ABC'))\n",
    "print df\n",
    "for idx, row in df.iterrows():\n",
    "    print row['A'], row['B']"
   ]
  },
  {
   "cell_type": "code",
   "execution_count": 32,
   "metadata": {
    "collapsed": true
   },
   "outputs": [],
   "source": [
    "# 11. Write DataFrame to File\n",
    "\n",
    "# -- CSV\n",
    "# df.to_csv('data.csv')\n",
    "# df.to_csv('data.csv', sep='\\t')\n",
    "# df.to_csv('data.csv', sep='\\t', encoding='utf-8')\n",
    "\n",
    "# -- Excel\n",
    "# writer = pd.ExcelWriter('data.xlsx')\n",
    "# df.to_excel(writer, 'Sheet 1')\n",
    "# writer.save()"
   ]
  }
 ],
 "metadata": {
  "kernelspec": {
   "display_name": "Python 2",
   "language": "python",
   "name": "python2"
  },
  "language_info": {
   "codemirror_mode": {
    "name": "ipython",
    "version": 2
   },
   "file_extension": ".py",
   "mimetype": "text/x-python",
   "name": "python",
   "nbconvert_exporter": "python",
   "pygments_lexer": "ipython2",
   "version": "2.7.12"
  }
 },
 "nbformat": 4,
 "nbformat_minor": 0
}
